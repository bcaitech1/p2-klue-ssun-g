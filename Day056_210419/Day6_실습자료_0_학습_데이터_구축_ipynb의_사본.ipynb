{
  "nbformat": 4,
  "nbformat_minor": 0,
  "metadata": {
    "colab": {
      "name": "Day6_실습자료_0_학습_데이터_구축.ipynb의 사본",
      "provenance": [],
      "collapsed_sections": [],
      "toc_visible": true,
      "machine_shape": "hm"
    },
    "kernelspec": {
      "name": "python3",
      "display_name": "Python 3"
    },
    "accelerator": "GPU",
    "widgets": {
      "application/vnd.jupyter.widget-state+json": {
        "2e358293c2304bb5aca53862821e3b9c": {
          "model_module": "@jupyter-widgets/controls",
          "model_name": "HBoxModel",
          "state": {
            "_view_name": "HBoxView",
            "_dom_classes": [],
            "_model_name": "HBoxModel",
            "_view_module": "@jupyter-widgets/controls",
            "_model_module_version": "1.5.0",
            "_view_count": null,
            "_view_module_version": "1.5.0",
            "box_style": "",
            "layout": "IPY_MODEL_07f39f1bd7054803b6dde585224c4852",
            "_model_module": "@jupyter-widgets/controls",
            "children": [
              "IPY_MODEL_82fa69995b4744a5a8ebdc8c1ef9e37c",
              "IPY_MODEL_7d14565ce781457cb1f518fb8c82338e"
            ]
          }
        },
        "07f39f1bd7054803b6dde585224c4852": {
          "model_module": "@jupyter-widgets/base",
          "model_name": "LayoutModel",
          "state": {
            "_view_name": "LayoutView",
            "grid_template_rows": null,
            "right": null,
            "justify_content": null,
            "_view_module": "@jupyter-widgets/base",
            "overflow": null,
            "_model_module_version": "1.2.0",
            "_view_count": null,
            "flex_flow": null,
            "width": null,
            "min_width": null,
            "border": null,
            "align_items": null,
            "bottom": null,
            "_model_module": "@jupyter-widgets/base",
            "top": null,
            "grid_column": null,
            "overflow_y": null,
            "overflow_x": null,
            "grid_auto_flow": null,
            "grid_area": null,
            "grid_template_columns": null,
            "flex": null,
            "_model_name": "LayoutModel",
            "justify_items": null,
            "grid_row": null,
            "max_height": null,
            "align_content": null,
            "visibility": null,
            "align_self": null,
            "height": null,
            "min_height": null,
            "padding": null,
            "grid_auto_rows": null,
            "grid_gap": null,
            "max_width": null,
            "order": null,
            "_view_module_version": "1.2.0",
            "grid_template_areas": null,
            "object_position": null,
            "object_fit": null,
            "grid_auto_columns": null,
            "margin": null,
            "display": null,
            "left": null
          }
        },
        "82fa69995b4744a5a8ebdc8c1ef9e37c": {
          "model_module": "@jupyter-widgets/controls",
          "model_name": "FloatProgressModel",
          "state": {
            "_view_name": "ProgressView",
            "style": "IPY_MODEL_a4e03a2839b34b5fbd9b5616deb02052",
            "_dom_classes": [],
            "description": "Downloading: 100%",
            "_model_name": "FloatProgressModel",
            "bar_style": "success",
            "max": 625,
            "_view_module": "@jupyter-widgets/controls",
            "_model_module_version": "1.5.0",
            "value": 625,
            "_view_count": null,
            "_view_module_version": "1.5.0",
            "orientation": "horizontal",
            "min": 0,
            "description_tooltip": null,
            "_model_module": "@jupyter-widgets/controls",
            "layout": "IPY_MODEL_ec5d5e1a74bd477ab752a31266af6dfc"
          }
        },
        "7d14565ce781457cb1f518fb8c82338e": {
          "model_module": "@jupyter-widgets/controls",
          "model_name": "HTMLModel",
          "state": {
            "_view_name": "HTMLView",
            "style": "IPY_MODEL_57a4cb30bc554ea4989c6914284534c3",
            "_dom_classes": [],
            "description": "",
            "_model_name": "HTMLModel",
            "placeholder": "​",
            "_view_module": "@jupyter-widgets/controls",
            "_model_module_version": "1.5.0",
            "value": " 625/625 [00:25&lt;00:00, 24.5B/s]",
            "_view_count": null,
            "_view_module_version": "1.5.0",
            "description_tooltip": null,
            "_model_module": "@jupyter-widgets/controls",
            "layout": "IPY_MODEL_41110472e5c848ac9377d05f41caa90d"
          }
        },
        "a4e03a2839b34b5fbd9b5616deb02052": {
          "model_module": "@jupyter-widgets/controls",
          "model_name": "ProgressStyleModel",
          "state": {
            "_view_name": "StyleView",
            "_model_name": "ProgressStyleModel",
            "description_width": "initial",
            "_view_module": "@jupyter-widgets/base",
            "_model_module_version": "1.5.0",
            "_view_count": null,
            "_view_module_version": "1.2.0",
            "bar_color": null,
            "_model_module": "@jupyter-widgets/controls"
          }
        },
        "ec5d5e1a74bd477ab752a31266af6dfc": {
          "model_module": "@jupyter-widgets/base",
          "model_name": "LayoutModel",
          "state": {
            "_view_name": "LayoutView",
            "grid_template_rows": null,
            "right": null,
            "justify_content": null,
            "_view_module": "@jupyter-widgets/base",
            "overflow": null,
            "_model_module_version": "1.2.0",
            "_view_count": null,
            "flex_flow": null,
            "width": null,
            "min_width": null,
            "border": null,
            "align_items": null,
            "bottom": null,
            "_model_module": "@jupyter-widgets/base",
            "top": null,
            "grid_column": null,
            "overflow_y": null,
            "overflow_x": null,
            "grid_auto_flow": null,
            "grid_area": null,
            "grid_template_columns": null,
            "flex": null,
            "_model_name": "LayoutModel",
            "justify_items": null,
            "grid_row": null,
            "max_height": null,
            "align_content": null,
            "visibility": null,
            "align_self": null,
            "height": null,
            "min_height": null,
            "padding": null,
            "grid_auto_rows": null,
            "grid_gap": null,
            "max_width": null,
            "order": null,
            "_view_module_version": "1.2.0",
            "grid_template_areas": null,
            "object_position": null,
            "object_fit": null,
            "grid_auto_columns": null,
            "margin": null,
            "display": null,
            "left": null
          }
        },
        "57a4cb30bc554ea4989c6914284534c3": {
          "model_module": "@jupyter-widgets/controls",
          "model_name": "DescriptionStyleModel",
          "state": {
            "_view_name": "StyleView",
            "_model_name": "DescriptionStyleModel",
            "description_width": "",
            "_view_module": "@jupyter-widgets/base",
            "_model_module_version": "1.5.0",
            "_view_count": null,
            "_view_module_version": "1.2.0",
            "_model_module": "@jupyter-widgets/controls"
          }
        },
        "41110472e5c848ac9377d05f41caa90d": {
          "model_module": "@jupyter-widgets/base",
          "model_name": "LayoutModel",
          "state": {
            "_view_name": "LayoutView",
            "grid_template_rows": null,
            "right": null,
            "justify_content": null,
            "_view_module": "@jupyter-widgets/base",
            "overflow": null,
            "_model_module_version": "1.2.0",
            "_view_count": null,
            "flex_flow": null,
            "width": null,
            "min_width": null,
            "border": null,
            "align_items": null,
            "bottom": null,
            "_model_module": "@jupyter-widgets/base",
            "top": null,
            "grid_column": null,
            "overflow_y": null,
            "overflow_x": null,
            "grid_auto_flow": null,
            "grid_area": null,
            "grid_template_columns": null,
            "flex": null,
            "_model_name": "LayoutModel",
            "justify_items": null,
            "grid_row": null,
            "max_height": null,
            "align_content": null,
            "visibility": null,
            "align_self": null,
            "height": null,
            "min_height": null,
            "padding": null,
            "grid_auto_rows": null,
            "grid_gap": null,
            "max_width": null,
            "order": null,
            "_view_module_version": "1.2.0",
            "grid_template_areas": null,
            "object_position": null,
            "object_fit": null,
            "grid_auto_columns": null,
            "margin": null,
            "display": null,
            "left": null
          }
        },
        "61f73b81ebef423484034e5112900536": {
          "model_module": "@jupyter-widgets/controls",
          "model_name": "HBoxModel",
          "state": {
            "_view_name": "HBoxView",
            "_dom_classes": [],
            "_model_name": "HBoxModel",
            "_view_module": "@jupyter-widgets/controls",
            "_model_module_version": "1.5.0",
            "_view_count": null,
            "_view_module_version": "1.5.0",
            "box_style": "",
            "layout": "IPY_MODEL_b71f721922ea4c22941391b50aaee52a",
            "_model_module": "@jupyter-widgets/controls",
            "children": [
              "IPY_MODEL_3eb9e8f842f5409aa8c84cb76d9a5090",
              "IPY_MODEL_e476248bdd4e4f19999369633cad8d46"
            ]
          }
        },
        "b71f721922ea4c22941391b50aaee52a": {
          "model_module": "@jupyter-widgets/base",
          "model_name": "LayoutModel",
          "state": {
            "_view_name": "LayoutView",
            "grid_template_rows": null,
            "right": null,
            "justify_content": null,
            "_view_module": "@jupyter-widgets/base",
            "overflow": null,
            "_model_module_version": "1.2.0",
            "_view_count": null,
            "flex_flow": null,
            "width": null,
            "min_width": null,
            "border": null,
            "align_items": null,
            "bottom": null,
            "_model_module": "@jupyter-widgets/base",
            "top": null,
            "grid_column": null,
            "overflow_y": null,
            "overflow_x": null,
            "grid_auto_flow": null,
            "grid_area": null,
            "grid_template_columns": null,
            "flex": null,
            "_model_name": "LayoutModel",
            "justify_items": null,
            "grid_row": null,
            "max_height": null,
            "align_content": null,
            "visibility": null,
            "align_self": null,
            "height": null,
            "min_height": null,
            "padding": null,
            "grid_auto_rows": null,
            "grid_gap": null,
            "max_width": null,
            "order": null,
            "_view_module_version": "1.2.0",
            "grid_template_areas": null,
            "object_position": null,
            "object_fit": null,
            "grid_auto_columns": null,
            "margin": null,
            "display": null,
            "left": null
          }
        },
        "3eb9e8f842f5409aa8c84cb76d9a5090": {
          "model_module": "@jupyter-widgets/controls",
          "model_name": "FloatProgressModel",
          "state": {
            "_view_name": "ProgressView",
            "style": "IPY_MODEL_c111963547704f47a02ac652e4be6a3d",
            "_dom_classes": [],
            "description": "Downloading: 100%",
            "_model_name": "FloatProgressModel",
            "bar_style": "success",
            "max": 995526,
            "_view_module": "@jupyter-widgets/controls",
            "_model_module_version": "1.5.0",
            "value": 995526,
            "_view_count": null,
            "_view_module_version": "1.5.0",
            "orientation": "horizontal",
            "min": 0,
            "description_tooltip": null,
            "_model_module": "@jupyter-widgets/controls",
            "layout": "IPY_MODEL_213a02df25684a0ea478f9a620229ed1"
          }
        },
        "e476248bdd4e4f19999369633cad8d46": {
          "model_module": "@jupyter-widgets/controls",
          "model_name": "HTMLModel",
          "state": {
            "_view_name": "HTMLView",
            "style": "IPY_MODEL_6e3a17e6415545adbedb74863fcd4871",
            "_dom_classes": [],
            "description": "",
            "_model_name": "HTMLModel",
            "placeholder": "​",
            "_view_module": "@jupyter-widgets/controls",
            "_model_module_version": "1.5.0",
            "value": " 996k/996k [00:01&lt;00:00, 843kB/s]",
            "_view_count": null,
            "_view_module_version": "1.5.0",
            "description_tooltip": null,
            "_model_module": "@jupyter-widgets/controls",
            "layout": "IPY_MODEL_2d6ff93469894b4ab25ee9090bc39bda"
          }
        },
        "c111963547704f47a02ac652e4be6a3d": {
          "model_module": "@jupyter-widgets/controls",
          "model_name": "ProgressStyleModel",
          "state": {
            "_view_name": "StyleView",
            "_model_name": "ProgressStyleModel",
            "description_width": "initial",
            "_view_module": "@jupyter-widgets/base",
            "_model_module_version": "1.5.0",
            "_view_count": null,
            "_view_module_version": "1.2.0",
            "bar_color": null,
            "_model_module": "@jupyter-widgets/controls"
          }
        },
        "213a02df25684a0ea478f9a620229ed1": {
          "model_module": "@jupyter-widgets/base",
          "model_name": "LayoutModel",
          "state": {
            "_view_name": "LayoutView",
            "grid_template_rows": null,
            "right": null,
            "justify_content": null,
            "_view_module": "@jupyter-widgets/base",
            "overflow": null,
            "_model_module_version": "1.2.0",
            "_view_count": null,
            "flex_flow": null,
            "width": null,
            "min_width": null,
            "border": null,
            "align_items": null,
            "bottom": null,
            "_model_module": "@jupyter-widgets/base",
            "top": null,
            "grid_column": null,
            "overflow_y": null,
            "overflow_x": null,
            "grid_auto_flow": null,
            "grid_area": null,
            "grid_template_columns": null,
            "flex": null,
            "_model_name": "LayoutModel",
            "justify_items": null,
            "grid_row": null,
            "max_height": null,
            "align_content": null,
            "visibility": null,
            "align_self": null,
            "height": null,
            "min_height": null,
            "padding": null,
            "grid_auto_rows": null,
            "grid_gap": null,
            "max_width": null,
            "order": null,
            "_view_module_version": "1.2.0",
            "grid_template_areas": null,
            "object_position": null,
            "object_fit": null,
            "grid_auto_columns": null,
            "margin": null,
            "display": null,
            "left": null
          }
        },
        "6e3a17e6415545adbedb74863fcd4871": {
          "model_module": "@jupyter-widgets/controls",
          "model_name": "DescriptionStyleModel",
          "state": {
            "_view_name": "StyleView",
            "_model_name": "DescriptionStyleModel",
            "description_width": "",
            "_view_module": "@jupyter-widgets/base",
            "_model_module_version": "1.5.0",
            "_view_count": null,
            "_view_module_version": "1.2.0",
            "_model_module": "@jupyter-widgets/controls"
          }
        },
        "2d6ff93469894b4ab25ee9090bc39bda": {
          "model_module": "@jupyter-widgets/base",
          "model_name": "LayoutModel",
          "state": {
            "_view_name": "LayoutView",
            "grid_template_rows": null,
            "right": null,
            "justify_content": null,
            "_view_module": "@jupyter-widgets/base",
            "overflow": null,
            "_model_module_version": "1.2.0",
            "_view_count": null,
            "flex_flow": null,
            "width": null,
            "min_width": null,
            "border": null,
            "align_items": null,
            "bottom": null,
            "_model_module": "@jupyter-widgets/base",
            "top": null,
            "grid_column": null,
            "overflow_y": null,
            "overflow_x": null,
            "grid_auto_flow": null,
            "grid_area": null,
            "grid_template_columns": null,
            "flex": null,
            "_model_name": "LayoutModel",
            "justify_items": null,
            "grid_row": null,
            "max_height": null,
            "align_content": null,
            "visibility": null,
            "align_self": null,
            "height": null,
            "min_height": null,
            "padding": null,
            "grid_auto_rows": null,
            "grid_gap": null,
            "max_width": null,
            "order": null,
            "_view_module_version": "1.2.0",
            "grid_template_areas": null,
            "object_position": null,
            "object_fit": null,
            "grid_auto_columns": null,
            "margin": null,
            "display": null,
            "left": null
          }
        },
        "3126fb005b634bbda7183c22e65ff1a9": {
          "model_module": "@jupyter-widgets/controls",
          "model_name": "HBoxModel",
          "state": {
            "_view_name": "HBoxView",
            "_dom_classes": [],
            "_model_name": "HBoxModel",
            "_view_module": "@jupyter-widgets/controls",
            "_model_module_version": "1.5.0",
            "_view_count": null,
            "_view_module_version": "1.5.0",
            "box_style": "",
            "layout": "IPY_MODEL_1976e244b9a94292a66e796604a65919",
            "_model_module": "@jupyter-widgets/controls",
            "children": [
              "IPY_MODEL_44ded0d19af34425bc4854783b43b450",
              "IPY_MODEL_abdec2e3113d4c06af85bc39c832705c"
            ]
          }
        },
        "1976e244b9a94292a66e796604a65919": {
          "model_module": "@jupyter-widgets/base",
          "model_name": "LayoutModel",
          "state": {
            "_view_name": "LayoutView",
            "grid_template_rows": null,
            "right": null,
            "justify_content": null,
            "_view_module": "@jupyter-widgets/base",
            "overflow": null,
            "_model_module_version": "1.2.0",
            "_view_count": null,
            "flex_flow": null,
            "width": null,
            "min_width": null,
            "border": null,
            "align_items": null,
            "bottom": null,
            "_model_module": "@jupyter-widgets/base",
            "top": null,
            "grid_column": null,
            "overflow_y": null,
            "overflow_x": null,
            "grid_auto_flow": null,
            "grid_area": null,
            "grid_template_columns": null,
            "flex": null,
            "_model_name": "LayoutModel",
            "justify_items": null,
            "grid_row": null,
            "max_height": null,
            "align_content": null,
            "visibility": null,
            "align_self": null,
            "height": null,
            "min_height": null,
            "padding": null,
            "grid_auto_rows": null,
            "grid_gap": null,
            "max_width": null,
            "order": null,
            "_view_module_version": "1.2.0",
            "grid_template_areas": null,
            "object_position": null,
            "object_fit": null,
            "grid_auto_columns": null,
            "margin": null,
            "display": null,
            "left": null
          }
        },
        "44ded0d19af34425bc4854783b43b450": {
          "model_module": "@jupyter-widgets/controls",
          "model_name": "FloatProgressModel",
          "state": {
            "_view_name": "ProgressView",
            "style": "IPY_MODEL_303224d3fc4d47af82fcc6bbf5e0f2ce",
            "_dom_classes": [],
            "description": "Downloading: 100%",
            "_model_name": "FloatProgressModel",
            "bar_style": "success",
            "max": 1961828,
            "_view_module": "@jupyter-widgets/controls",
            "_model_module_version": "1.5.0",
            "value": 1961828,
            "_view_count": null,
            "_view_module_version": "1.5.0",
            "orientation": "horizontal",
            "min": 0,
            "description_tooltip": null,
            "_model_module": "@jupyter-widgets/controls",
            "layout": "IPY_MODEL_a663389cb167492e8243691512b1689c"
          }
        },
        "abdec2e3113d4c06af85bc39c832705c": {
          "model_module": "@jupyter-widgets/controls",
          "model_name": "HTMLModel",
          "state": {
            "_view_name": "HTMLView",
            "style": "IPY_MODEL_6e3c2715935e4de48bbfbf9ffa73047e",
            "_dom_classes": [],
            "description": "",
            "_model_name": "HTMLModel",
            "placeholder": "​",
            "_view_module": "@jupyter-widgets/controls",
            "_model_module_version": "1.5.0",
            "value": " 1.96M/1.96M [00:23&lt;00:00, 82.3kB/s]",
            "_view_count": null,
            "_view_module_version": "1.5.0",
            "description_tooltip": null,
            "_model_module": "@jupyter-widgets/controls",
            "layout": "IPY_MODEL_c0223954bb0d48b49caf1041a312a0dd"
          }
        },
        "303224d3fc4d47af82fcc6bbf5e0f2ce": {
          "model_module": "@jupyter-widgets/controls",
          "model_name": "ProgressStyleModel",
          "state": {
            "_view_name": "StyleView",
            "_model_name": "ProgressStyleModel",
            "description_width": "initial",
            "_view_module": "@jupyter-widgets/base",
            "_model_module_version": "1.5.0",
            "_view_count": null,
            "_view_module_version": "1.2.0",
            "bar_color": null,
            "_model_module": "@jupyter-widgets/controls"
          }
        },
        "a663389cb167492e8243691512b1689c": {
          "model_module": "@jupyter-widgets/base",
          "model_name": "LayoutModel",
          "state": {
            "_view_name": "LayoutView",
            "grid_template_rows": null,
            "right": null,
            "justify_content": null,
            "_view_module": "@jupyter-widgets/base",
            "overflow": null,
            "_model_module_version": "1.2.0",
            "_view_count": null,
            "flex_flow": null,
            "width": null,
            "min_width": null,
            "border": null,
            "align_items": null,
            "bottom": null,
            "_model_module": "@jupyter-widgets/base",
            "top": null,
            "grid_column": null,
            "overflow_y": null,
            "overflow_x": null,
            "grid_auto_flow": null,
            "grid_area": null,
            "grid_template_columns": null,
            "flex": null,
            "_model_name": "LayoutModel",
            "justify_items": null,
            "grid_row": null,
            "max_height": null,
            "align_content": null,
            "visibility": null,
            "align_self": null,
            "height": null,
            "min_height": null,
            "padding": null,
            "grid_auto_rows": null,
            "grid_gap": null,
            "max_width": null,
            "order": null,
            "_view_module_version": "1.2.0",
            "grid_template_areas": null,
            "object_position": null,
            "object_fit": null,
            "grid_auto_columns": null,
            "margin": null,
            "display": null,
            "left": null
          }
        },
        "6e3c2715935e4de48bbfbf9ffa73047e": {
          "model_module": "@jupyter-widgets/controls",
          "model_name": "DescriptionStyleModel",
          "state": {
            "_view_name": "StyleView",
            "_model_name": "DescriptionStyleModel",
            "description_width": "",
            "_view_module": "@jupyter-widgets/base",
            "_model_module_version": "1.5.0",
            "_view_count": null,
            "_view_module_version": "1.2.0",
            "_model_module": "@jupyter-widgets/controls"
          }
        },
        "c0223954bb0d48b49caf1041a312a0dd": {
          "model_module": "@jupyter-widgets/base",
          "model_name": "LayoutModel",
          "state": {
            "_view_name": "LayoutView",
            "grid_template_rows": null,
            "right": null,
            "justify_content": null,
            "_view_module": "@jupyter-widgets/base",
            "overflow": null,
            "_model_module_version": "1.2.0",
            "_view_count": null,
            "flex_flow": null,
            "width": null,
            "min_width": null,
            "border": null,
            "align_items": null,
            "bottom": null,
            "_model_module": "@jupyter-widgets/base",
            "top": null,
            "grid_column": null,
            "overflow_y": null,
            "overflow_x": null,
            "grid_auto_flow": null,
            "grid_area": null,
            "grid_template_columns": null,
            "flex": null,
            "_model_name": "LayoutModel",
            "justify_items": null,
            "grid_row": null,
            "max_height": null,
            "align_content": null,
            "visibility": null,
            "align_self": null,
            "height": null,
            "min_height": null,
            "padding": null,
            "grid_auto_rows": null,
            "grid_gap": null,
            "max_width": null,
            "order": null,
            "_view_module_version": "1.2.0",
            "grid_template_areas": null,
            "object_position": null,
            "object_fit": null,
            "grid_auto_columns": null,
            "margin": null,
            "display": null,
            "left": null
          }
        },
        "f97ec0c7b68945a588c275a5f136b647": {
          "model_module": "@jupyter-widgets/controls",
          "model_name": "HBoxModel",
          "state": {
            "_view_name": "HBoxView",
            "_dom_classes": [],
            "_model_name": "HBoxModel",
            "_view_module": "@jupyter-widgets/controls",
            "_model_module_version": "1.5.0",
            "_view_count": null,
            "_view_module_version": "1.5.0",
            "box_style": "",
            "layout": "IPY_MODEL_32e0dc1d771e42268c3b7a2a4e46f5b3",
            "_model_module": "@jupyter-widgets/controls",
            "children": [
              "IPY_MODEL_efa94dee27bf44ad92a945eb1ce9899f",
              "IPY_MODEL_941e4937a32f4c9db3a8de60e564f255"
            ]
          }
        },
        "32e0dc1d771e42268c3b7a2a4e46f5b3": {
          "model_module": "@jupyter-widgets/base",
          "model_name": "LayoutModel",
          "state": {
            "_view_name": "LayoutView",
            "grid_template_rows": null,
            "right": null,
            "justify_content": null,
            "_view_module": "@jupyter-widgets/base",
            "overflow": null,
            "_model_module_version": "1.2.0",
            "_view_count": null,
            "flex_flow": null,
            "width": null,
            "min_width": null,
            "border": null,
            "align_items": null,
            "bottom": null,
            "_model_module": "@jupyter-widgets/base",
            "top": null,
            "grid_column": null,
            "overflow_y": null,
            "overflow_x": null,
            "grid_auto_flow": null,
            "grid_area": null,
            "grid_template_columns": null,
            "flex": null,
            "_model_name": "LayoutModel",
            "justify_items": null,
            "grid_row": null,
            "max_height": null,
            "align_content": null,
            "visibility": null,
            "align_self": null,
            "height": null,
            "min_height": null,
            "padding": null,
            "grid_auto_rows": null,
            "grid_gap": null,
            "max_width": null,
            "order": null,
            "_view_module_version": "1.2.0",
            "grid_template_areas": null,
            "object_position": null,
            "object_fit": null,
            "grid_auto_columns": null,
            "margin": null,
            "display": null,
            "left": null
          }
        },
        "efa94dee27bf44ad92a945eb1ce9899f": {
          "model_module": "@jupyter-widgets/controls",
          "model_name": "FloatProgressModel",
          "state": {
            "_view_name": "ProgressView",
            "style": "IPY_MODEL_796bf1cb3c84482980bd9d9c21c53de6",
            "_dom_classes": [],
            "description": "Downloading: 100%",
            "_model_name": "FloatProgressModel",
            "bar_style": "success",
            "max": 29,
            "_view_module": "@jupyter-widgets/controls",
            "_model_module_version": "1.5.0",
            "value": 29,
            "_view_count": null,
            "_view_module_version": "1.5.0",
            "orientation": "horizontal",
            "min": 0,
            "description_tooltip": null,
            "_model_module": "@jupyter-widgets/controls",
            "layout": "IPY_MODEL_12383771bf0246a2b2da885dac62ce8a"
          }
        },
        "941e4937a32f4c9db3a8de60e564f255": {
          "model_module": "@jupyter-widgets/controls",
          "model_name": "HTMLModel",
          "state": {
            "_view_name": "HTMLView",
            "style": "IPY_MODEL_0ecadd84401c4741b3fe2b406f0d4597",
            "_dom_classes": [],
            "description": "",
            "_model_name": "HTMLModel",
            "placeholder": "​",
            "_view_module": "@jupyter-widgets/controls",
            "_model_module_version": "1.5.0",
            "value": " 29.0/29.0 [00:00&lt;00:00, 35.2B/s]",
            "_view_count": null,
            "_view_module_version": "1.5.0",
            "description_tooltip": null,
            "_model_module": "@jupyter-widgets/controls",
            "layout": "IPY_MODEL_05ffb3f97ed94d2288353a599cc5c03c"
          }
        },
        "796bf1cb3c84482980bd9d9c21c53de6": {
          "model_module": "@jupyter-widgets/controls",
          "model_name": "ProgressStyleModel",
          "state": {
            "_view_name": "StyleView",
            "_model_name": "ProgressStyleModel",
            "description_width": "initial",
            "_view_module": "@jupyter-widgets/base",
            "_model_module_version": "1.5.0",
            "_view_count": null,
            "_view_module_version": "1.2.0",
            "bar_color": null,
            "_model_module": "@jupyter-widgets/controls"
          }
        },
        "12383771bf0246a2b2da885dac62ce8a": {
          "model_module": "@jupyter-widgets/base",
          "model_name": "LayoutModel",
          "state": {
            "_view_name": "LayoutView",
            "grid_template_rows": null,
            "right": null,
            "justify_content": null,
            "_view_module": "@jupyter-widgets/base",
            "overflow": null,
            "_model_module_version": "1.2.0",
            "_view_count": null,
            "flex_flow": null,
            "width": null,
            "min_width": null,
            "border": null,
            "align_items": null,
            "bottom": null,
            "_model_module": "@jupyter-widgets/base",
            "top": null,
            "grid_column": null,
            "overflow_y": null,
            "overflow_x": null,
            "grid_auto_flow": null,
            "grid_area": null,
            "grid_template_columns": null,
            "flex": null,
            "_model_name": "LayoutModel",
            "justify_items": null,
            "grid_row": null,
            "max_height": null,
            "align_content": null,
            "visibility": null,
            "align_self": null,
            "height": null,
            "min_height": null,
            "padding": null,
            "grid_auto_rows": null,
            "grid_gap": null,
            "max_width": null,
            "order": null,
            "_view_module_version": "1.2.0",
            "grid_template_areas": null,
            "object_position": null,
            "object_fit": null,
            "grid_auto_columns": null,
            "margin": null,
            "display": null,
            "left": null
          }
        },
        "0ecadd84401c4741b3fe2b406f0d4597": {
          "model_module": "@jupyter-widgets/controls",
          "model_name": "DescriptionStyleModel",
          "state": {
            "_view_name": "StyleView",
            "_model_name": "DescriptionStyleModel",
            "description_width": "",
            "_view_module": "@jupyter-widgets/base",
            "_model_module_version": "1.5.0",
            "_view_count": null,
            "_view_module_version": "1.2.0",
            "_model_module": "@jupyter-widgets/controls"
          }
        },
        "05ffb3f97ed94d2288353a599cc5c03c": {
          "model_module": "@jupyter-widgets/base",
          "model_name": "LayoutModel",
          "state": {
            "_view_name": "LayoutView",
            "grid_template_rows": null,
            "right": null,
            "justify_content": null,
            "_view_module": "@jupyter-widgets/base",
            "overflow": null,
            "_model_module_version": "1.2.0",
            "_view_count": null,
            "flex_flow": null,
            "width": null,
            "min_width": null,
            "border": null,
            "align_items": null,
            "bottom": null,
            "_model_module": "@jupyter-widgets/base",
            "top": null,
            "grid_column": null,
            "overflow_y": null,
            "overflow_x": null,
            "grid_auto_flow": null,
            "grid_area": null,
            "grid_template_columns": null,
            "flex": null,
            "_model_name": "LayoutModel",
            "justify_items": null,
            "grid_row": null,
            "max_height": null,
            "align_content": null,
            "visibility": null,
            "align_self": null,
            "height": null,
            "min_height": null,
            "padding": null,
            "grid_auto_rows": null,
            "grid_gap": null,
            "max_width": null,
            "order": null,
            "_view_module_version": "1.2.0",
            "grid_template_areas": null,
            "object_position": null,
            "object_fit": null,
            "grid_auto_columns": null,
            "margin": null,
            "display": null,
            "left": null
          }
        },
        "1323ca2bae31429cb7642cf5896cb983": {
          "model_module": "@jupyter-widgets/controls",
          "model_name": "HBoxModel",
          "state": {
            "_view_name": "HBoxView",
            "_dom_classes": [],
            "_model_name": "HBoxModel",
            "_view_module": "@jupyter-widgets/controls",
            "_model_module_version": "1.5.0",
            "_view_count": null,
            "_view_module_version": "1.5.0",
            "box_style": "",
            "layout": "IPY_MODEL_ecc5a34fa47b40e1ae0b4e329ce68075",
            "_model_module": "@jupyter-widgets/controls",
            "children": [
              "IPY_MODEL_2dab652652f8447eb61a325a81084dfe",
              "IPY_MODEL_3435d25ab2e74edfa472c17737f0076d"
            ]
          }
        },
        "ecc5a34fa47b40e1ae0b4e329ce68075": {
          "model_module": "@jupyter-widgets/base",
          "model_name": "LayoutModel",
          "state": {
            "_view_name": "LayoutView",
            "grid_template_rows": null,
            "right": null,
            "justify_content": null,
            "_view_module": "@jupyter-widgets/base",
            "overflow": null,
            "_model_module_version": "1.2.0",
            "_view_count": null,
            "flex_flow": null,
            "width": null,
            "min_width": null,
            "border": null,
            "align_items": null,
            "bottom": null,
            "_model_module": "@jupyter-widgets/base",
            "top": null,
            "grid_column": null,
            "overflow_y": null,
            "overflow_x": null,
            "grid_auto_flow": null,
            "grid_area": null,
            "grid_template_columns": null,
            "flex": null,
            "_model_name": "LayoutModel",
            "justify_items": null,
            "grid_row": null,
            "max_height": null,
            "align_content": null,
            "visibility": null,
            "align_self": null,
            "height": null,
            "min_height": null,
            "padding": null,
            "grid_auto_rows": null,
            "grid_gap": null,
            "max_width": null,
            "order": null,
            "_view_module_version": "1.2.0",
            "grid_template_areas": null,
            "object_position": null,
            "object_fit": null,
            "grid_auto_columns": null,
            "margin": null,
            "display": null,
            "left": null
          }
        },
        "2dab652652f8447eb61a325a81084dfe": {
          "model_module": "@jupyter-widgets/controls",
          "model_name": "FloatProgressModel",
          "state": {
            "_view_name": "ProgressView",
            "style": "IPY_MODEL_d2c217d6dee04306a2cef4f0fce6c293",
            "_dom_classes": [],
            "description": "Downloading: 100%",
            "_model_name": "FloatProgressModel",
            "bar_style": "success",
            "max": 714314041,
            "_view_module": "@jupyter-widgets/controls",
            "_model_module_version": "1.5.0",
            "value": 714314041,
            "_view_count": null,
            "_view_module_version": "1.5.0",
            "orientation": "horizontal",
            "min": 0,
            "description_tooltip": null,
            "_model_module": "@jupyter-widgets/controls",
            "layout": "IPY_MODEL_62346d98fdbd453ebb197d70d0a8fa28"
          }
        },
        "3435d25ab2e74edfa472c17737f0076d": {
          "model_module": "@jupyter-widgets/controls",
          "model_name": "HTMLModel",
          "state": {
            "_view_name": "HTMLView",
            "style": "IPY_MODEL_2f6de254ba444557a381f0b2f9d645a5",
            "_dom_classes": [],
            "description": "",
            "_model_name": "HTMLModel",
            "placeholder": "​",
            "_view_module": "@jupyter-widgets/controls",
            "_model_module_version": "1.5.0",
            "value": " 714M/714M [00:21&lt;00:00, 33.4MB/s]",
            "_view_count": null,
            "_view_module_version": "1.5.0",
            "description_tooltip": null,
            "_model_module": "@jupyter-widgets/controls",
            "layout": "IPY_MODEL_f8d1fa7859f1496abca036239e68c113"
          }
        },
        "d2c217d6dee04306a2cef4f0fce6c293": {
          "model_module": "@jupyter-widgets/controls",
          "model_name": "ProgressStyleModel",
          "state": {
            "_view_name": "StyleView",
            "_model_name": "ProgressStyleModel",
            "description_width": "initial",
            "_view_module": "@jupyter-widgets/base",
            "_model_module_version": "1.5.0",
            "_view_count": null,
            "_view_module_version": "1.2.0",
            "bar_color": null,
            "_model_module": "@jupyter-widgets/controls"
          }
        },
        "62346d98fdbd453ebb197d70d0a8fa28": {
          "model_module": "@jupyter-widgets/base",
          "model_name": "LayoutModel",
          "state": {
            "_view_name": "LayoutView",
            "grid_template_rows": null,
            "right": null,
            "justify_content": null,
            "_view_module": "@jupyter-widgets/base",
            "overflow": null,
            "_model_module_version": "1.2.0",
            "_view_count": null,
            "flex_flow": null,
            "width": null,
            "min_width": null,
            "border": null,
            "align_items": null,
            "bottom": null,
            "_model_module": "@jupyter-widgets/base",
            "top": null,
            "grid_column": null,
            "overflow_y": null,
            "overflow_x": null,
            "grid_auto_flow": null,
            "grid_area": null,
            "grid_template_columns": null,
            "flex": null,
            "_model_name": "LayoutModel",
            "justify_items": null,
            "grid_row": null,
            "max_height": null,
            "align_content": null,
            "visibility": null,
            "align_self": null,
            "height": null,
            "min_height": null,
            "padding": null,
            "grid_auto_rows": null,
            "grid_gap": null,
            "max_width": null,
            "order": null,
            "_view_module_version": "1.2.0",
            "grid_template_areas": null,
            "object_position": null,
            "object_fit": null,
            "grid_auto_columns": null,
            "margin": null,
            "display": null,
            "left": null
          }
        },
        "2f6de254ba444557a381f0b2f9d645a5": {
          "model_module": "@jupyter-widgets/controls",
          "model_name": "DescriptionStyleModel",
          "state": {
            "_view_name": "StyleView",
            "_model_name": "DescriptionStyleModel",
            "description_width": "",
            "_view_module": "@jupyter-widgets/base",
            "_model_module_version": "1.5.0",
            "_view_count": null,
            "_view_module_version": "1.2.0",
            "_model_module": "@jupyter-widgets/controls"
          }
        },
        "f8d1fa7859f1496abca036239e68c113": {
          "model_module": "@jupyter-widgets/base",
          "model_name": "LayoutModel",
          "state": {
            "_view_name": "LayoutView",
            "grid_template_rows": null,
            "right": null,
            "justify_content": null,
            "_view_module": "@jupyter-widgets/base",
            "overflow": null,
            "_model_module_version": "1.2.0",
            "_view_count": null,
            "flex_flow": null,
            "width": null,
            "min_width": null,
            "border": null,
            "align_items": null,
            "bottom": null,
            "_model_module": "@jupyter-widgets/base",
            "top": null,
            "grid_column": null,
            "overflow_y": null,
            "overflow_x": null,
            "grid_auto_flow": null,
            "grid_area": null,
            "grid_template_columns": null,
            "flex": null,
            "_model_name": "LayoutModel",
            "justify_items": null,
            "grid_row": null,
            "max_height": null,
            "align_content": null,
            "visibility": null,
            "align_self": null,
            "height": null,
            "min_height": null,
            "padding": null,
            "grid_auto_rows": null,
            "grid_gap": null,
            "max_width": null,
            "order": null,
            "_view_module_version": "1.2.0",
            "grid_template_areas": null,
            "object_position": null,
            "object_fit": null,
            "grid_auto_columns": null,
            "margin": null,
            "display": null,
            "left": null
          }
        }
      }
    }
  },
  "cells": [
    {
      "cell_type": "markdown",
      "metadata": {
        "id": "Kiw1Ta0X2Sir"
      },
      "source": [
        "# 두 문장 관계 분류를 위한 학습 데이터 구축\n",
        "\n",
        "> 작성자      \n",
        "```\n",
        "* 김성현 (bananaband657@gmail.com)  \n",
        "김바다 (qkek983@gmail.com)\n",
        "박상희 (parksanghee0103@gmail.com)  \n",
        "이정우 (jungwoo.l2.rs@gmail.com)\n",
        "```\n",
        "[CC BY-NC-ND](https://creativecommons.org/licenses/by-nc-nd/2.0/kr/)"
      ]
    },
    {
      "cell_type": "markdown",
      "metadata": {
        "id": "Wwo-qEysQx2Z"
      },
      "source": [
        "두 문장의 관계 분류를 위한 학습 데이터를 구축해보도록 하겠습니다."
      ]
    },
    {
      "cell_type": "markdown",
      "metadata": {
        "id": "zde2AVxBQ3U-"
      },
      "source": [
        "이번 task의 목적은, paraphrasing 된 두 문장이 서로 같은 의미를 가지고 있는지 분류하는 것입니다.   "
      ]
    },
    {
      "cell_type": "code",
      "metadata": {
        "colab": {
          "base_uri": "https://localhost:8080/"
        },
        "id": "4eehAP1TGvmf",
        "outputId": "10748c88-1bba-463e-e224-e58c1df36cbb"
      },
      "source": [
        "!git clone https://github.com/warnikchow/paraKQC.git"
      ],
      "execution_count": 1,
      "outputs": [
        {
          "output_type": "stream",
          "text": [
            "Cloning into 'paraKQC'...\n",
            "remote: Enumerating objects: 48, done.\u001b[K\n",
            "remote: Counting objects: 100% (48/48), done.\u001b[K\n",
            "remote: Compressing objects: 100% (45/45), done.\u001b[K\n",
            "remote: Total 48 (delta 15), reused 0 (delta 0), pack-reused 0\u001b[K\n",
            "Unpacking objects: 100% (48/48), done.\n"
          ],
          "name": "stdout"
        }
      ]
    },
    {
      "cell_type": "code",
      "metadata": {
        "id": "XUb7lwkzHRGG"
      },
      "source": [
        "data = open('/content/paraKQC/data/paraKQC_v1.txt')"
      ],
      "execution_count": 2,
      "outputs": []
    },
    {
      "cell_type": "code",
      "metadata": {
        "id": "SAH3NSUFHeTc"
      },
      "source": [
        "lines = data.readlines()"
      ],
      "execution_count": 3,
      "outputs": []
    },
    {
      "cell_type": "code",
      "metadata": {
        "colab": {
          "base_uri": "https://localhost:8080/"
        },
        "id": "BJdvp9zSHtzx",
        "outputId": "917ee833-ee3a-470c-bb12-50b18a0aafbe"
      },
      "source": [
        "for i in range(0,15):\n",
        "    print(lines[i]) # 10개씩 paraphasing "
      ],
      "execution_count": 4,
      "outputs": [
        {
          "output_type": "stream",
          "text": [
            "0\t0\t메일을 다 비울까 아니면 안읽은 것만 지울까?\n",
            "\n",
            "0\t0\t메일 중에 안읽은 것만 지울까? 다 지울까?\n",
            "\n",
            "0\t0\t안읽은 메일만 지워 다지워?\n",
            "\n",
            "0\t0\t다 지울까 안읽은 메일만 지울까?\n",
            "\n",
            "0\t0\t전체를 비울까 안읽은 것만 비울까?\n",
            "\n",
            "0\t0\t안읽은 메일만 지울꺼야? 아니면 다 지울꺼야?\n",
            "\n",
            "0\t0\t어떻게 지울까? 안읽은거만? 전체 다?\n",
            "\n",
            "0\t0\t메일을 다 지울지 안읽은거만 지울지 알려주세요\n",
            "\n",
            "0\t0\t메일은 다 지울수도 있고, 안읽은거만 지울 수도 있어. 어떻게 할래?\n",
            "\n",
            "0\t0\t안읽은 메일만 지우든가, 다 지울 수 있는데 어떻게 할꺼야?\n",
            "\n",
            "0\t0\t지메일 쓸래, 네이버 메일 쓸래\n",
            "\n",
            "0\t0\t지메일을 쓸거야 네이버 메일을 쓸꺼야?\n",
            "\n",
            "0\t0\t지메일, 네이버 둘 중에 뭘 쓸래?\n",
            "\n",
            "0\t0\t네이버랑 지메일이 있는데 뭘 쓸래?\n",
            "\n",
            "0\t0\t네이버랑 지메일 중에 골라줄래?\n",
            "\n"
          ],
          "name": "stdout"
        }
      ]
    },
    {
      "cell_type": "code",
      "metadata": {
        "id": "0hleCuXoMYgp"
      },
      "source": [
        "similar_sents = {}"
      ],
      "execution_count": 5,
      "outputs": []
    },
    {
      "cell_type": "code",
      "metadata": {
        "id": "v66ieeKDHk5T"
      },
      "source": [
        "similar_sent = []\n",
        "total_sent = []\n",
        "for line in lines:\n",
        "    line = line.strip()\n",
        "    sent = line.split('\\t')[2]\n",
        "    total_sent.append(sent)\n",
        "    similar_sent.append(sent)\n",
        "    if len(similar_sent) == 10:\n",
        "        similar_sents[similar_sent[0]] = similar_sent[1:]\n",
        "        similar_sent = []"
      ],
      "execution_count": 6,
      "outputs": []
    },
    {
      "cell_type": "code",
      "metadata": {
        "colab": {
          "base_uri": "https://localhost:8080/"
        },
        "id": "n3bYZtnPQmY6",
        "outputId": "f395a55f-2ee9-4d82-bb5c-95e3d3a3fc6e"
      },
      "source": [
        "print(len(total_sent))  # 가장 유사한 문장을 찾기 위한 전체 문장 pool"
      ],
      "execution_count": 7,
      "outputs": [
        {
          "output_type": "stream",
          "text": [
            "10000\n"
          ],
          "name": "stdout"
        }
      ]
    },
    {
      "cell_type": "code",
      "metadata": {
        "colab": {
          "base_uri": "https://localhost:8080/"
        },
        "id": "VXQ3Te6kQpId",
        "outputId": "e33e6351-0cc8-4db2-d86f-3c4a3f68e063"
      },
      "source": [
        "for i in range(0,15):\n",
        "    print(total_sent[i])"
      ],
      "execution_count": 8,
      "outputs": [
        {
          "output_type": "stream",
          "text": [
            "메일을 다 비울까 아니면 안읽은 것만 지울까?\n",
            "메일 중에 안읽은 것만 지울까? 다 지울까?\n",
            "안읽은 메일만 지워 다지워?\n",
            "다 지울까 안읽은 메일만 지울까?\n",
            "전체를 비울까 안읽은 것만 비울까?\n",
            "안읽은 메일만 지울꺼야? 아니면 다 지울꺼야?\n",
            "어떻게 지울까? 안읽은거만? 전체 다?\n",
            "메일을 다 지울지 안읽은거만 지울지 알려주세요\n",
            "메일은 다 지울수도 있고, 안읽은거만 지울 수도 있어. 어떻게 할래?\n",
            "안읽은 메일만 지우든가, 다 지울 수 있는데 어떻게 할꺼야?\n",
            "지메일 쓸래, 네이버 메일 쓸래\n",
            "지메일을 쓸거야 네이버 메일을 쓸꺼야?\n",
            "지메일, 네이버 둘 중에 뭘 쓸래?\n",
            "네이버랑 지메일이 있는데 뭘 쓸래?\n",
            "네이버랑 지메일 중에 골라줄래?\n"
          ],
          "name": "stdout"
        }
      ]
    },
    {
      "cell_type": "code",
      "metadata": {
        "colab": {
          "base_uri": "https://localhost:8080/"
        },
        "id": "Atax1N3nL2VK",
        "outputId": "b069f104-f3ed-42fc-d522-29c430676d8a"
      },
      "source": [
        "print(len(similar_sents))"
      ],
      "execution_count": 9,
      "outputs": [
        {
          "output_type": "stream",
          "text": [
            "999\n"
          ],
          "name": "stdout"
        }
      ]
    },
    {
      "cell_type": "code",
      "metadata": {
        "colab": {
          "base_uri": "https://localhost:8080/"
        },
        "id": "aD-VJspWIyTC",
        "outputId": "cbcacdb1-703f-4b59-d522-7bae4db8ad5f"
      },
      "source": [
        "for i, key in enumerate(similar_sents.keys()):  # 10개의 문장 중, 첫 번째 문장을 key\n",
        "    print('\\n', key)                            # 나머지 9개의 문장을 value\n",
        "    for sent in similar_sents[key]:             # 헷갈리니까 이걸 similar_sents dict라고 정의할게요 :-)\n",
        "        print(\"-\", sent)\n",
        "    if i > 3:\n",
        "        break"
      ],
      "execution_count": 10,
      "outputs": [
        {
          "output_type": "stream",
          "text": [
            "\n",
            " 메일을 다 비울까 아니면 안읽은 것만 지울까?\n",
            "- 메일 중에 안읽은 것만 지울까? 다 지울까?\n",
            "- 안읽은 메일만 지워 다지워?\n",
            "- 다 지울까 안읽은 메일만 지울까?\n",
            "- 전체를 비울까 안읽은 것만 비울까?\n",
            "- 안읽은 메일만 지울꺼야? 아니면 다 지울꺼야?\n",
            "- 어떻게 지울까? 안읽은거만? 전체 다?\n",
            "- 메일을 다 지울지 안읽은거만 지울지 알려주세요\n",
            "- 메일은 다 지울수도 있고, 안읽은거만 지울 수도 있어. 어떻게 할래?\n",
            "- 안읽은 메일만 지우든가, 다 지울 수 있는데 어떻게 할꺼야?\n",
            "\n",
            " 지메일 쓸래, 네이버 메일 쓸래\n",
            "- 지메일을 쓸거야 네이버 메일을 쓸꺼야?\n",
            "- 지메일, 네이버 둘 중에 뭘 쓸래?\n",
            "- 네이버랑 지메일이 있는데 뭘 쓸래?\n",
            "- 네이버랑 지메일 중에 골라줄래?\n",
            "- 두 개 중에 골라줘 네이버랑 지메일.\n",
            "- 네이버 아니면 지메일 중에 어떤 이메일 써야될까?\n",
            "- 네이버 메일이랑 지메일 중에 어떤 걸 써?\n",
            "- 지메일 쓸래? 아님 네이버?\n",
            "- 메일을 써야하는데, 지메일이랑 네이버 중에 뭘 쓸래?\n",
            "\n",
            " 지메일이랑 네이버 메일 중 파일 전송용량이 뭐가 더 크지?\n",
            "- 지메일이랑 네이버 메일 중 뭐가 더 용량이 큰 파일을 보낼 수 있어?\n",
            "- 파일 전송용량이 더 큰 쪽이 어디지? 지메일? 네이버 메일?\n",
            "- 파일 전송용량이 지메일이 큰가? 네이버 메일이 큰가?\n",
            "- 파일 전송용량이 지메일이랑 네이버 메일 중 뭐가 더 크지?\n",
            "- 지메일의 파일 전송용량이랑 네이버 메일의 파일 전송용량 중에 뭐가 더 크지?\n",
            "- 네이버 메일이랑 지메일 중에 어떤게 파일용량을 더 많이 전송할 수 있어?\n",
            "- 파일 용량을 더 크게 보낼 수 있는 메일은 네이버야 지메일이야?\n",
            "- 지메일과 네이버 메일을 비교했을 때, 파일 전송용량이 더 큰 게 뭐야?\n",
            "- 네이버 메일이랑 지메일이랑 보낼 수 있는 파일용량이 뭐가 더 크지?\n",
            "\n",
            " 네이트 메일이랑 한메일 중 어느 것이 먼저 서비스를 종료하지?\n",
            "- 먼저 서비스를 종료하는 쪽이 어디야? 네이트 메일? 한메일?\n",
            "- 어느 곳이 먼저 종료할까? 네이트 메일? 한메일?\n",
            "- 네이트 메일이 먼저 종료할까? 한메일이 먼저 종료할까?\n",
            "- 네이트 메일이랑 한메일 중에 뭐가 더 먼저 종료하는 지 알려줘\n",
            "- 네이트 메일의 종료 시점이랑 한메일의 종료 시점 중 뭐가 더 빠를까?\n",
            "- 한메일이랑 네이트메일 중 종료가 빠른 서비스는 뭐야?\n",
            "- 네이트 메일이랑 한메일 중 더 빨리 종료하는 서비스를 알려줘\n",
            "- 혹시 뭐가 더 먼저 서비스가 끊길지 아니? 네이트 메일이랑 한메일 중에\n",
            "- 뭐가 더 먼저 종료해? 네이트 메일? 한메일?\n",
            "\n",
            " 네이트 메일이랑 네이버 메일이랑 둘 중 접속 가능한 거 알려줘\n",
            "- 둘 중 접속 가능한 게 있을까? 네이트 메일이랑 네이버 메일\n",
            "- 네이트 메일이랑 네이버 메일 중 접속 되는 거로 하나 알려줘\n",
            "- 네이트나 네이버 메일 중 접속하는 거로 알려 줘\n",
            "- 메일 중에 네이트나 네이버, 둘 중 접속되는게 있을까?\n",
            "- 네이트랑 네이버 메일 둘 중 접속 가능한 거 불러줘봐\n",
            "- 어느 메일에 접속 가능해? 네이트 메일이랑 네이버 메일\n",
            "- 네이트나 네이버 메일 들어갈 수 있는 거로 하나 알려줘\n",
            "- 접속 가능한 네이트나 네이버 계정이 하나 있으실까요?\n",
            "- 접속 가능한 계정 네이트나 네이버 메일 중 하나만 알려줘\n"
          ],
          "name": "stdout"
        }
      ]
    },
    {
      "cell_type": "markdown",
      "metadata": {
        "id": "aWeBFVhCQxAb"
      },
      "source": [
        "이렇게 KEY에 대해, paraphrasing이 이루어진 문장 배열을 value로써 저장해두었습니다.   \n",
        "그렇다면 다음은, 문장 유사도 자체는 높지만, 실제 그 의미가 다른 데이터들을 모아보도록 하겠습니다."
      ]
    },
    {
      "cell_type": "code",
      "metadata": {
        "colab": {
          "base_uri": "https://localhost:8080/"
        },
        "id": "puBkuY8XRSZS",
        "outputId": "ac294841-c998-4292-8c98-105002f04bea"
      },
      "source": [
        "!pip install transformers"
      ],
      "execution_count": 11,
      "outputs": [
        {
          "output_type": "stream",
          "text": [
            "Collecting transformers\n",
            "\u001b[?25l  Downloading https://files.pythonhosted.org/packages/d8/b2/57495b5309f09fa501866e225c84532d1fd89536ea62406b2181933fb418/transformers-4.5.1-py3-none-any.whl (2.1MB)\n",
            "\u001b[K     |████████████████████████████████| 2.1MB 10.8MB/s \n",
            "\u001b[?25hRequirement already satisfied: importlib-metadata; python_version < \"3.8\" in /usr/local/lib/python3.7/dist-packages (from transformers) (3.10.1)\n",
            "Requirement already satisfied: tqdm>=4.27 in /usr/local/lib/python3.7/dist-packages (from transformers) (4.41.1)\n",
            "Collecting tokenizers<0.11,>=0.10.1\n",
            "\u001b[?25l  Downloading https://files.pythonhosted.org/packages/ae/04/5b870f26a858552025a62f1649c20d29d2672c02ff3c3fb4c688ca46467a/tokenizers-0.10.2-cp37-cp37m-manylinux2010_x86_64.whl (3.3MB)\n",
            "\u001b[K     |████████████████████████████████| 3.3MB 40.2MB/s \n",
            "\u001b[?25hRequirement already satisfied: regex!=2019.12.17 in /usr/local/lib/python3.7/dist-packages (from transformers) (2019.12.20)\n",
            "Requirement already satisfied: filelock in /usr/local/lib/python3.7/dist-packages (from transformers) (3.0.12)\n",
            "Requirement already satisfied: numpy>=1.17 in /usr/local/lib/python3.7/dist-packages (from transformers) (1.19.5)\n",
            "Requirement already satisfied: packaging in /usr/local/lib/python3.7/dist-packages (from transformers) (20.9)\n",
            "Collecting sacremoses\n",
            "\u001b[?25l  Downloading https://files.pythonhosted.org/packages/75/ee/67241dc87f266093c533a2d4d3d69438e57d7a90abb216fa076e7d475d4a/sacremoses-0.0.45-py3-none-any.whl (895kB)\n",
            "\u001b[K     |████████████████████████████████| 901kB 39.3MB/s \n",
            "\u001b[?25hRequirement already satisfied: requests in /usr/local/lib/python3.7/dist-packages (from transformers) (2.23.0)\n",
            "Requirement already satisfied: zipp>=0.5 in /usr/local/lib/python3.7/dist-packages (from importlib-metadata; python_version < \"3.8\"->transformers) (3.4.1)\n",
            "Requirement already satisfied: typing-extensions>=3.6.4; python_version < \"3.8\" in /usr/local/lib/python3.7/dist-packages (from importlib-metadata; python_version < \"3.8\"->transformers) (3.7.4.3)\n",
            "Requirement already satisfied: pyparsing>=2.0.2 in /usr/local/lib/python3.7/dist-packages (from packaging->transformers) (2.4.7)\n",
            "Requirement already satisfied: six in /usr/local/lib/python3.7/dist-packages (from sacremoses->transformers) (1.15.0)\n",
            "Requirement already satisfied: joblib in /usr/local/lib/python3.7/dist-packages (from sacremoses->transformers) (1.0.1)\n",
            "Requirement already satisfied: click in /usr/local/lib/python3.7/dist-packages (from sacremoses->transformers) (7.1.2)\n",
            "Requirement already satisfied: urllib3!=1.25.0,!=1.25.1,<1.26,>=1.21.1 in /usr/local/lib/python3.7/dist-packages (from requests->transformers) (1.24.3)\n",
            "Requirement already satisfied: chardet<4,>=3.0.2 in /usr/local/lib/python3.7/dist-packages (from requests->transformers) (3.0.4)\n",
            "Requirement already satisfied: certifi>=2017.4.17 in /usr/local/lib/python3.7/dist-packages (from requests->transformers) (2020.12.5)\n",
            "Requirement already satisfied: idna<3,>=2.5 in /usr/local/lib/python3.7/dist-packages (from requests->transformers) (2.10)\n",
            "Installing collected packages: tokenizers, sacremoses, transformers\n",
            "Successfully installed sacremoses-0.0.45 tokenizers-0.10.2 transformers-4.5.1\n"
          ],
          "name": "stdout"
        }
      ]
    },
    {
      "cell_type": "code",
      "metadata": {
        "id": "bkZuR_diOEDm"
      },
      "source": [
        "import torch\n",
        "from transformers import AutoModel, AutoTokenizer"
      ],
      "execution_count": 12,
      "outputs": []
    },
    {
      "cell_type": "code",
      "metadata": {
        "colab": {
          "base_uri": "https://localhost:8080/",
          "height": 1000,
          "referenced_widgets": [
            "2e358293c2304bb5aca53862821e3b9c",
            "07f39f1bd7054803b6dde585224c4852",
            "82fa69995b4744a5a8ebdc8c1ef9e37c",
            "7d14565ce781457cb1f518fb8c82338e",
            "a4e03a2839b34b5fbd9b5616deb02052",
            "ec5d5e1a74bd477ab752a31266af6dfc",
            "57a4cb30bc554ea4989c6914284534c3",
            "41110472e5c848ac9377d05f41caa90d",
            "61f73b81ebef423484034e5112900536",
            "b71f721922ea4c22941391b50aaee52a",
            "3eb9e8f842f5409aa8c84cb76d9a5090",
            "e476248bdd4e4f19999369633cad8d46",
            "c111963547704f47a02ac652e4be6a3d",
            "213a02df25684a0ea478f9a620229ed1",
            "6e3a17e6415545adbedb74863fcd4871",
            "2d6ff93469894b4ab25ee9090bc39bda",
            "3126fb005b634bbda7183c22e65ff1a9",
            "1976e244b9a94292a66e796604a65919",
            "44ded0d19af34425bc4854783b43b450",
            "abdec2e3113d4c06af85bc39c832705c",
            "303224d3fc4d47af82fcc6bbf5e0f2ce",
            "a663389cb167492e8243691512b1689c",
            "6e3c2715935e4de48bbfbf9ffa73047e",
            "c0223954bb0d48b49caf1041a312a0dd",
            "f97ec0c7b68945a588c275a5f136b647",
            "32e0dc1d771e42268c3b7a2a4e46f5b3",
            "efa94dee27bf44ad92a945eb1ce9899f",
            "941e4937a32f4c9db3a8de60e564f255",
            "796bf1cb3c84482980bd9d9c21c53de6",
            "12383771bf0246a2b2da885dac62ce8a",
            "0ecadd84401c4741b3fe2b406f0d4597",
            "05ffb3f97ed94d2288353a599cc5c03c",
            "1323ca2bae31429cb7642cf5896cb983",
            "ecc5a34fa47b40e1ae0b4e329ce68075",
            "2dab652652f8447eb61a325a81084dfe",
            "3435d25ab2e74edfa472c17737f0076d",
            "d2c217d6dee04306a2cef4f0fce6c293",
            "62346d98fdbd453ebb197d70d0a8fa28",
            "2f6de254ba444557a381f0b2f9d645a5",
            "f8d1fa7859f1496abca036239e68c113"
          ]
        },
        "id": "tZ8gT7M8RYin",
        "outputId": "cb725ea1-5a99-43ba-bad5-c27e56e6f355"
      },
      "source": [
        "MODEL_NAME = \"bert-base-multilingual-cased\"\n",
        "tokenizer = AutoTokenizer.from_pretrained(MODEL_NAME)\n",
        "model = AutoModel.from_pretrained(MODEL_NAME)\n",
        "model.to('cuda:0')"
      ],
      "execution_count": 13,
      "outputs": [
        {
          "output_type": "display_data",
          "data": {
            "application/vnd.jupyter.widget-view+json": {
              "model_id": "2e358293c2304bb5aca53862821e3b9c",
              "version_minor": 0,
              "version_major": 2
            },
            "text/plain": [
              "HBox(children=(FloatProgress(value=0.0, description='Downloading', max=625.0, style=ProgressStyle(description_…"
            ]
          },
          "metadata": {
            "tags": []
          }
        },
        {
          "output_type": "stream",
          "text": [
            "\n"
          ],
          "name": "stdout"
        },
        {
          "output_type": "display_data",
          "data": {
            "application/vnd.jupyter.widget-view+json": {
              "model_id": "61f73b81ebef423484034e5112900536",
              "version_minor": 0,
              "version_major": 2
            },
            "text/plain": [
              "HBox(children=(FloatProgress(value=0.0, description='Downloading', max=995526.0, style=ProgressStyle(descripti…"
            ]
          },
          "metadata": {
            "tags": []
          }
        },
        {
          "output_type": "stream",
          "text": [
            "\n"
          ],
          "name": "stdout"
        },
        {
          "output_type": "display_data",
          "data": {
            "application/vnd.jupyter.widget-view+json": {
              "model_id": "3126fb005b634bbda7183c22e65ff1a9",
              "version_minor": 0,
              "version_major": 2
            },
            "text/plain": [
              "HBox(children=(FloatProgress(value=0.0, description='Downloading', max=1961828.0, style=ProgressStyle(descript…"
            ]
          },
          "metadata": {
            "tags": []
          }
        },
        {
          "output_type": "stream",
          "text": [
            "\n"
          ],
          "name": "stdout"
        },
        {
          "output_type": "display_data",
          "data": {
            "application/vnd.jupyter.widget-view+json": {
              "model_id": "f97ec0c7b68945a588c275a5f136b647",
              "version_minor": 0,
              "version_major": 2
            },
            "text/plain": [
              "HBox(children=(FloatProgress(value=0.0, description='Downloading', max=29.0, style=ProgressStyle(description_w…"
            ]
          },
          "metadata": {
            "tags": []
          }
        },
        {
          "output_type": "stream",
          "text": [
            "\n"
          ],
          "name": "stdout"
        },
        {
          "output_type": "display_data",
          "data": {
            "application/vnd.jupyter.widget-view+json": {
              "model_id": "1323ca2bae31429cb7642cf5896cb983",
              "version_minor": 0,
              "version_major": 2
            },
            "text/plain": [
              "HBox(children=(FloatProgress(value=0.0, description='Downloading', max=714314041.0, style=ProgressStyle(descri…"
            ]
          },
          "metadata": {
            "tags": []
          }
        },
        {
          "output_type": "stream",
          "text": [
            "\n"
          ],
          "name": "stdout"
        },
        {
          "output_type": "execute_result",
          "data": {
            "text/plain": [
              "BertModel(\n",
              "  (embeddings): BertEmbeddings(\n",
              "    (word_embeddings): Embedding(119547, 768, padding_idx=0)\n",
              "    (position_embeddings): Embedding(512, 768)\n",
              "    (token_type_embeddings): Embedding(2, 768)\n",
              "    (LayerNorm): LayerNorm((768,), eps=1e-12, elementwise_affine=True)\n",
              "    (dropout): Dropout(p=0.1, inplace=False)\n",
              "  )\n",
              "  (encoder): BertEncoder(\n",
              "    (layer): ModuleList(\n",
              "      (0): BertLayer(\n",
              "        (attention): BertAttention(\n",
              "          (self): BertSelfAttention(\n",
              "            (query): Linear(in_features=768, out_features=768, bias=True)\n",
              "            (key): Linear(in_features=768, out_features=768, bias=True)\n",
              "            (value): Linear(in_features=768, out_features=768, bias=True)\n",
              "            (dropout): Dropout(p=0.1, inplace=False)\n",
              "          )\n",
              "          (output): BertSelfOutput(\n",
              "            (dense): Linear(in_features=768, out_features=768, bias=True)\n",
              "            (LayerNorm): LayerNorm((768,), eps=1e-12, elementwise_affine=True)\n",
              "            (dropout): Dropout(p=0.1, inplace=False)\n",
              "          )\n",
              "        )\n",
              "        (intermediate): BertIntermediate(\n",
              "          (dense): Linear(in_features=768, out_features=3072, bias=True)\n",
              "        )\n",
              "        (output): BertOutput(\n",
              "          (dense): Linear(in_features=3072, out_features=768, bias=True)\n",
              "          (LayerNorm): LayerNorm((768,), eps=1e-12, elementwise_affine=True)\n",
              "          (dropout): Dropout(p=0.1, inplace=False)\n",
              "        )\n",
              "      )\n",
              "      (1): BertLayer(\n",
              "        (attention): BertAttention(\n",
              "          (self): BertSelfAttention(\n",
              "            (query): Linear(in_features=768, out_features=768, bias=True)\n",
              "            (key): Linear(in_features=768, out_features=768, bias=True)\n",
              "            (value): Linear(in_features=768, out_features=768, bias=True)\n",
              "            (dropout): Dropout(p=0.1, inplace=False)\n",
              "          )\n",
              "          (output): BertSelfOutput(\n",
              "            (dense): Linear(in_features=768, out_features=768, bias=True)\n",
              "            (LayerNorm): LayerNorm((768,), eps=1e-12, elementwise_affine=True)\n",
              "            (dropout): Dropout(p=0.1, inplace=False)\n",
              "          )\n",
              "        )\n",
              "        (intermediate): BertIntermediate(\n",
              "          (dense): Linear(in_features=768, out_features=3072, bias=True)\n",
              "        )\n",
              "        (output): BertOutput(\n",
              "          (dense): Linear(in_features=3072, out_features=768, bias=True)\n",
              "          (LayerNorm): LayerNorm((768,), eps=1e-12, elementwise_affine=True)\n",
              "          (dropout): Dropout(p=0.1, inplace=False)\n",
              "        )\n",
              "      )\n",
              "      (2): BertLayer(\n",
              "        (attention): BertAttention(\n",
              "          (self): BertSelfAttention(\n",
              "            (query): Linear(in_features=768, out_features=768, bias=True)\n",
              "            (key): Linear(in_features=768, out_features=768, bias=True)\n",
              "            (value): Linear(in_features=768, out_features=768, bias=True)\n",
              "            (dropout): Dropout(p=0.1, inplace=False)\n",
              "          )\n",
              "          (output): BertSelfOutput(\n",
              "            (dense): Linear(in_features=768, out_features=768, bias=True)\n",
              "            (LayerNorm): LayerNorm((768,), eps=1e-12, elementwise_affine=True)\n",
              "            (dropout): Dropout(p=0.1, inplace=False)\n",
              "          )\n",
              "        )\n",
              "        (intermediate): BertIntermediate(\n",
              "          (dense): Linear(in_features=768, out_features=3072, bias=True)\n",
              "        )\n",
              "        (output): BertOutput(\n",
              "          (dense): Linear(in_features=3072, out_features=768, bias=True)\n",
              "          (LayerNorm): LayerNorm((768,), eps=1e-12, elementwise_affine=True)\n",
              "          (dropout): Dropout(p=0.1, inplace=False)\n",
              "        )\n",
              "      )\n",
              "      (3): BertLayer(\n",
              "        (attention): BertAttention(\n",
              "          (self): BertSelfAttention(\n",
              "            (query): Linear(in_features=768, out_features=768, bias=True)\n",
              "            (key): Linear(in_features=768, out_features=768, bias=True)\n",
              "            (value): Linear(in_features=768, out_features=768, bias=True)\n",
              "            (dropout): Dropout(p=0.1, inplace=False)\n",
              "          )\n",
              "          (output): BertSelfOutput(\n",
              "            (dense): Linear(in_features=768, out_features=768, bias=True)\n",
              "            (LayerNorm): LayerNorm((768,), eps=1e-12, elementwise_affine=True)\n",
              "            (dropout): Dropout(p=0.1, inplace=False)\n",
              "          )\n",
              "        )\n",
              "        (intermediate): BertIntermediate(\n",
              "          (dense): Linear(in_features=768, out_features=3072, bias=True)\n",
              "        )\n",
              "        (output): BertOutput(\n",
              "          (dense): Linear(in_features=3072, out_features=768, bias=True)\n",
              "          (LayerNorm): LayerNorm((768,), eps=1e-12, elementwise_affine=True)\n",
              "          (dropout): Dropout(p=0.1, inplace=False)\n",
              "        )\n",
              "      )\n",
              "      (4): BertLayer(\n",
              "        (attention): BertAttention(\n",
              "          (self): BertSelfAttention(\n",
              "            (query): Linear(in_features=768, out_features=768, bias=True)\n",
              "            (key): Linear(in_features=768, out_features=768, bias=True)\n",
              "            (value): Linear(in_features=768, out_features=768, bias=True)\n",
              "            (dropout): Dropout(p=0.1, inplace=False)\n",
              "          )\n",
              "          (output): BertSelfOutput(\n",
              "            (dense): Linear(in_features=768, out_features=768, bias=True)\n",
              "            (LayerNorm): LayerNorm((768,), eps=1e-12, elementwise_affine=True)\n",
              "            (dropout): Dropout(p=0.1, inplace=False)\n",
              "          )\n",
              "        )\n",
              "        (intermediate): BertIntermediate(\n",
              "          (dense): Linear(in_features=768, out_features=3072, bias=True)\n",
              "        )\n",
              "        (output): BertOutput(\n",
              "          (dense): Linear(in_features=3072, out_features=768, bias=True)\n",
              "          (LayerNorm): LayerNorm((768,), eps=1e-12, elementwise_affine=True)\n",
              "          (dropout): Dropout(p=0.1, inplace=False)\n",
              "        )\n",
              "      )\n",
              "      (5): BertLayer(\n",
              "        (attention): BertAttention(\n",
              "          (self): BertSelfAttention(\n",
              "            (query): Linear(in_features=768, out_features=768, bias=True)\n",
              "            (key): Linear(in_features=768, out_features=768, bias=True)\n",
              "            (value): Linear(in_features=768, out_features=768, bias=True)\n",
              "            (dropout): Dropout(p=0.1, inplace=False)\n",
              "          )\n",
              "          (output): BertSelfOutput(\n",
              "            (dense): Linear(in_features=768, out_features=768, bias=True)\n",
              "            (LayerNorm): LayerNorm((768,), eps=1e-12, elementwise_affine=True)\n",
              "            (dropout): Dropout(p=0.1, inplace=False)\n",
              "          )\n",
              "        )\n",
              "        (intermediate): BertIntermediate(\n",
              "          (dense): Linear(in_features=768, out_features=3072, bias=True)\n",
              "        )\n",
              "        (output): BertOutput(\n",
              "          (dense): Linear(in_features=3072, out_features=768, bias=True)\n",
              "          (LayerNorm): LayerNorm((768,), eps=1e-12, elementwise_affine=True)\n",
              "          (dropout): Dropout(p=0.1, inplace=False)\n",
              "        )\n",
              "      )\n",
              "      (6): BertLayer(\n",
              "        (attention): BertAttention(\n",
              "          (self): BertSelfAttention(\n",
              "            (query): Linear(in_features=768, out_features=768, bias=True)\n",
              "            (key): Linear(in_features=768, out_features=768, bias=True)\n",
              "            (value): Linear(in_features=768, out_features=768, bias=True)\n",
              "            (dropout): Dropout(p=0.1, inplace=False)\n",
              "          )\n",
              "          (output): BertSelfOutput(\n",
              "            (dense): Linear(in_features=768, out_features=768, bias=True)\n",
              "            (LayerNorm): LayerNorm((768,), eps=1e-12, elementwise_affine=True)\n",
              "            (dropout): Dropout(p=0.1, inplace=False)\n",
              "          )\n",
              "        )\n",
              "        (intermediate): BertIntermediate(\n",
              "          (dense): Linear(in_features=768, out_features=3072, bias=True)\n",
              "        )\n",
              "        (output): BertOutput(\n",
              "          (dense): Linear(in_features=3072, out_features=768, bias=True)\n",
              "          (LayerNorm): LayerNorm((768,), eps=1e-12, elementwise_affine=True)\n",
              "          (dropout): Dropout(p=0.1, inplace=False)\n",
              "        )\n",
              "      )\n",
              "      (7): BertLayer(\n",
              "        (attention): BertAttention(\n",
              "          (self): BertSelfAttention(\n",
              "            (query): Linear(in_features=768, out_features=768, bias=True)\n",
              "            (key): Linear(in_features=768, out_features=768, bias=True)\n",
              "            (value): Linear(in_features=768, out_features=768, bias=True)\n",
              "            (dropout): Dropout(p=0.1, inplace=False)\n",
              "          )\n",
              "          (output): BertSelfOutput(\n",
              "            (dense): Linear(in_features=768, out_features=768, bias=True)\n",
              "            (LayerNorm): LayerNorm((768,), eps=1e-12, elementwise_affine=True)\n",
              "            (dropout): Dropout(p=0.1, inplace=False)\n",
              "          )\n",
              "        )\n",
              "        (intermediate): BertIntermediate(\n",
              "          (dense): Linear(in_features=768, out_features=3072, bias=True)\n",
              "        )\n",
              "        (output): BertOutput(\n",
              "          (dense): Linear(in_features=3072, out_features=768, bias=True)\n",
              "          (LayerNorm): LayerNorm((768,), eps=1e-12, elementwise_affine=True)\n",
              "          (dropout): Dropout(p=0.1, inplace=False)\n",
              "        )\n",
              "      )\n",
              "      (8): BertLayer(\n",
              "        (attention): BertAttention(\n",
              "          (self): BertSelfAttention(\n",
              "            (query): Linear(in_features=768, out_features=768, bias=True)\n",
              "            (key): Linear(in_features=768, out_features=768, bias=True)\n",
              "            (value): Linear(in_features=768, out_features=768, bias=True)\n",
              "            (dropout): Dropout(p=0.1, inplace=False)\n",
              "          )\n",
              "          (output): BertSelfOutput(\n",
              "            (dense): Linear(in_features=768, out_features=768, bias=True)\n",
              "            (LayerNorm): LayerNorm((768,), eps=1e-12, elementwise_affine=True)\n",
              "            (dropout): Dropout(p=0.1, inplace=False)\n",
              "          )\n",
              "        )\n",
              "        (intermediate): BertIntermediate(\n",
              "          (dense): Linear(in_features=768, out_features=3072, bias=True)\n",
              "        )\n",
              "        (output): BertOutput(\n",
              "          (dense): Linear(in_features=3072, out_features=768, bias=True)\n",
              "          (LayerNorm): LayerNorm((768,), eps=1e-12, elementwise_affine=True)\n",
              "          (dropout): Dropout(p=0.1, inplace=False)\n",
              "        )\n",
              "      )\n",
              "      (9): BertLayer(\n",
              "        (attention): BertAttention(\n",
              "          (self): BertSelfAttention(\n",
              "            (query): Linear(in_features=768, out_features=768, bias=True)\n",
              "            (key): Linear(in_features=768, out_features=768, bias=True)\n",
              "            (value): Linear(in_features=768, out_features=768, bias=True)\n",
              "            (dropout): Dropout(p=0.1, inplace=False)\n",
              "          )\n",
              "          (output): BertSelfOutput(\n",
              "            (dense): Linear(in_features=768, out_features=768, bias=True)\n",
              "            (LayerNorm): LayerNorm((768,), eps=1e-12, elementwise_affine=True)\n",
              "            (dropout): Dropout(p=0.1, inplace=False)\n",
              "          )\n",
              "        )\n",
              "        (intermediate): BertIntermediate(\n",
              "          (dense): Linear(in_features=768, out_features=3072, bias=True)\n",
              "        )\n",
              "        (output): BertOutput(\n",
              "          (dense): Linear(in_features=3072, out_features=768, bias=True)\n",
              "          (LayerNorm): LayerNorm((768,), eps=1e-12, elementwise_affine=True)\n",
              "          (dropout): Dropout(p=0.1, inplace=False)\n",
              "        )\n",
              "      )\n",
              "      (10): BertLayer(\n",
              "        (attention): BertAttention(\n",
              "          (self): BertSelfAttention(\n",
              "            (query): Linear(in_features=768, out_features=768, bias=True)\n",
              "            (key): Linear(in_features=768, out_features=768, bias=True)\n",
              "            (value): Linear(in_features=768, out_features=768, bias=True)\n",
              "            (dropout): Dropout(p=0.1, inplace=False)\n",
              "          )\n",
              "          (output): BertSelfOutput(\n",
              "            (dense): Linear(in_features=768, out_features=768, bias=True)\n",
              "            (LayerNorm): LayerNorm((768,), eps=1e-12, elementwise_affine=True)\n",
              "            (dropout): Dropout(p=0.1, inplace=False)\n",
              "          )\n",
              "        )\n",
              "        (intermediate): BertIntermediate(\n",
              "          (dense): Linear(in_features=768, out_features=3072, bias=True)\n",
              "        )\n",
              "        (output): BertOutput(\n",
              "          (dense): Linear(in_features=3072, out_features=768, bias=True)\n",
              "          (LayerNorm): LayerNorm((768,), eps=1e-12, elementwise_affine=True)\n",
              "          (dropout): Dropout(p=0.1, inplace=False)\n",
              "        )\n",
              "      )\n",
              "      (11): BertLayer(\n",
              "        (attention): BertAttention(\n",
              "          (self): BertSelfAttention(\n",
              "            (query): Linear(in_features=768, out_features=768, bias=True)\n",
              "            (key): Linear(in_features=768, out_features=768, bias=True)\n",
              "            (value): Linear(in_features=768, out_features=768, bias=True)\n",
              "            (dropout): Dropout(p=0.1, inplace=False)\n",
              "          )\n",
              "          (output): BertSelfOutput(\n",
              "            (dense): Linear(in_features=768, out_features=768, bias=True)\n",
              "            (LayerNorm): LayerNorm((768,), eps=1e-12, elementwise_affine=True)\n",
              "            (dropout): Dropout(p=0.1, inplace=False)\n",
              "          )\n",
              "        )\n",
              "        (intermediate): BertIntermediate(\n",
              "          (dense): Linear(in_features=768, out_features=3072, bias=True)\n",
              "        )\n",
              "        (output): BertOutput(\n",
              "          (dense): Linear(in_features=3072, out_features=768, bias=True)\n",
              "          (LayerNorm): LayerNorm((768,), eps=1e-12, elementwise_affine=True)\n",
              "          (dropout): Dropout(p=0.1, inplace=False)\n",
              "        )\n",
              "      )\n",
              "    )\n",
              "  )\n",
              "  (pooler): BertPooler(\n",
              "    (dense): Linear(in_features=768, out_features=768, bias=True)\n",
              "    (activation): Tanh()\n",
              "  )\n",
              ")"
            ]
          },
          "metadata": {
            "tags": []
          },
          "execution_count": 13
        }
      ]
    },
    {
      "cell_type": "code",
      "metadata": {
        "id": "tfsIUTU8RaBI"
      },
      "source": [
        "def get_cls_token(sent_A):\n",
        "    model.eval()\n",
        "    tokenized_sent = tokenizer(\n",
        "            sent_A,\n",
        "            return_tensors=\"pt\",\n",
        "            truncation=True,\n",
        "            add_special_tokens=True,\n",
        "            max_length=32\n",
        "    ).to('cuda:0')\n",
        "    with torch.no_grad():# 그라디엔트 계산 비활성화\n",
        "        outputs = model(\n",
        "            input_ids=tokenized_sent['input_ids'],\n",
        "            attention_mask=tokenized_sent['attention_mask'],\n",
        "            token_type_ids=tokenized_sent['token_type_ids']\n",
        "            )\n",
        "    logits = outputs.last_hidden_state[:,0,:].detach().cpu().numpy()\n",
        "    return logits"
      ],
      "execution_count": 14,
      "outputs": []
    },
    {
      "cell_type": "code",
      "metadata": {
        "colab": {
          "base_uri": "https://localhost:8080/"
        },
        "id": "zUNltds6SixC",
        "outputId": "b969018c-491a-4517-b5b2-9922fee937ce"
      },
      "source": [
        "print(get_cls_token(\"이순신은 조선 중기의 무신이다.\"))"
      ],
      "execution_count": 15,
      "outputs": [
        {
          "output_type": "stream",
          "text": [
            "[[ 2.26023331e-01  1.04686236e-02 -5.41397333e-01  2.30354160e-01\n",
            "   6.25359356e-01  2.39804164e-01  2.33706925e-02 -2.61266202e-01\n",
            "  -4.38040107e-01  4.07898813e-01 -2.52411366e-01  4.77173269e-01\n",
            "  -6.36516333e-01 -2.32369184e-01 -6.57122076e-01  2.84394443e-01\n",
            "   1.04387656e-01  5.72353005e-01  4.29819733e-01  4.15337741e-01\n",
            "  -2.59806186e-01  1.41296107e-02  5.21894991e-01  7.10462183e-02\n",
            "   1.82837084e-01 -3.98556352e-01  1.74790025e-01  1.37428090e-01\n",
            "   4.74656940e-01 -4.75838393e-01 -1.25539750e-01  3.68416905e-01\n",
            "  -1.48483887e-01  6.28679752e-01 -3.69420677e-01 -5.60222268e-01\n",
            "  -1.00052607e+00  1.35853320e-01  4.38387334e-01  2.19171971e-01\n",
            "  -1.23290628e-01  3.58434916e-01 -8.95108059e-02  5.15334487e-01\n",
            "  -1.19154662e-01  7.95150399e-01  1.55639514e-01  3.38727146e-01\n",
            "   2.70103067e-01  6.92908943e-01 -3.93667407e-02  7.97390006e-03\n",
            "  -2.45925710e-01 -2.02220291e-01  2.15763748e-02  6.43221438e-02\n",
            "   1.46936029e-01 -4.21170533e-01 -1.05109327e-02  3.24690431e-01\n",
            "  -4.63303179e-01 -4.30349827e-01  3.31607044e-01  3.56182232e-02\n",
            "  -9.12960432e-03 -1.01234281e+00 -4.88405265e-02 -4.26564813e-01\n",
            "  -4.83325064e-01 -9.82258320e-01  2.16265872e-01  1.64005041e-01\n",
            "   8.22343230e-01 -4.90513861e-01 -4.20530111e-01  5.86119890e-01\n",
            "   5.44369444e-02  1.02661856e-01 -4.79711980e-01  4.21772510e-01\n",
            "   8.25875849e-02  9.94910821e-02 -7.36725032e-01  8.04313272e-02\n",
            "  -4.66970503e-01  1.53423086e-01  1.96565911e-01  6.55537546e-01\n",
            "   3.54127645e-01 -4.56418633e-01  3.10150087e-01  6.37891069e-02\n",
            "   2.65592020e-02  1.55223757e-01 -4.14434940e-01 -2.35058982e-02\n",
            "   3.32986891e-01 -1.11262374e-01  4.72608626e-01  4.48388100e-01\n",
            "  -1.35637581e-01  1.26958534e-01  3.37105036e-01  3.71268719e-01\n",
            "  -1.24669170e+00 -1.62793361e-02 -2.70262599e-01  3.52786660e-01\n",
            "   5.42594790e-01  3.38236243e-01  3.98514181e-01  2.79007256e-01\n",
            "  -8.52013007e-02 -1.78946882e-01  4.11463469e-01  3.50324750e-01\n",
            "  -1.26027119e+00 -1.06382951e-01 -3.58080193e-02 -7.68987000e-01\n",
            "  -5.40672727e-02  1.90646663e-01  2.84469217e-01  2.09651694e-01\n",
            "  -8.86150450e-02 -4.59917575e-01  3.48190099e-01 -3.28822315e-01\n",
            "  -8.86443481e-02  2.09312752e-01 -6.70396388e-02  8.30240667e-01\n",
            "  -6.04129359e-02  5.73628247e-01 -3.45435888e-01  9.40481424e-01\n",
            "   3.72718632e-01  1.17116131e-01  3.81011844e-01  2.02390492e-01\n",
            "   1.87378347e-01 -3.42207074e-01 -6.27608597e-01 -4.27585751e-01\n",
            "   1.32909283e-01  5.95812976e-01  1.65163070e-01  2.67922133e-01\n",
            "  -4.34931546e-01 -5.85490286e-01  4.50824834e-02  1.71174452e-01\n",
            "   5.37380874e-01  2.71067828e-01 -7.25735128e-02 -5.29492736e-01\n",
            "  -3.37410778e-01 -5.60548007e-02  1.61386877e-01  4.62500930e-01\n",
            "   4.35834676e-01  2.61201829e-01 -3.05487484e-01  5.92219949e-01\n",
            "  -3.59068304e-01  2.20656529e-01 -1.98440880e-01 -3.49788703e-02\n",
            "  -5.62068462e-01 -3.47032100e-01  1.38336018e-01 -2.26063877e-01\n",
            "   3.04840714e-01 -2.03756571e-01 -2.37143203e-03  1.92570657e-01\n",
            "   1.89706072e-01 -1.80369735e-01 -1.90681770e-01  6.08994588e-02\n",
            "   2.72534013e-01  3.48346941e-02 -1.52959257e-01 -2.90145338e-01\n",
            "   3.66726629e-02 -3.36475283e-01 -3.29761744e-01  2.25789875e-01\n",
            "   4.66245897e-02 -2.01424375e-01 -1.89732894e-01  3.20181906e-01\n",
            "   4.06113148e-01 -4.01839197e-01 -3.75632405e-01  7.51971066e-01\n",
            "   7.27158971e-03  2.43503407e-01 -1.11687802e-01 -1.37996539e-01\n",
            "   2.44666204e-01  3.50604981e-01  4.90590245e-01 -1.41663894e-01\n",
            "   9.56648886e-02  3.53628248e-01 -1.40335822e+00 -1.15753639e+00\n",
            "  -2.86184758e-01  2.65258551e-01  6.33716136e-02  4.04662974e-02\n",
            "   2.57174611e-01  1.30390257e-01 -4.43873376e-01 -7.78907657e-01\n",
            "   6.38891831e-02  3.22794497e-01 -9.89577025e-02 -7.58806705e-01\n",
            "   1.17698655e-01  7.47781515e-01 -6.80052161e-01 -3.32311332e-01\n",
            "  -1.44173682e-01 -3.60945225e-01 -4.05695140e-01  8.75220820e-02\n",
            "   1.93009272e-01 -3.88577938e-01 -9.97529089e-01 -5.93183994e-01\n",
            "   3.57659966e-01 -1.63813233e+00  3.10745984e-02 -4.54510301e-02\n",
            "   2.41103172e-01 -6.43787503e-01  1.15372531e-01 -1.38799027e-01\n",
            "   2.46082991e-02 -4.14814502e-01  1.35501966e-01 -4.06317443e-01\n",
            "   5.76019287e-01  1.75186336e-01  3.94789904e-01 -1.30962133e-01\n",
            "  -5.93059301e-01 -2.73457497e-01  2.32280537e-01 -5.11143245e-02\n",
            "   1.91233382e-01 -2.11554170e-01 -4.80470330e-01  5.47491014e-01\n",
            "  -1.39375016e-01 -4.38634425e-01  1.73163563e-01 -2.65821695e-01\n",
            "  -9.38886106e-01 -3.21582884e-01  6.82394803e-01 -2.08610252e-01\n",
            "   2.67978042e-01 -1.69330761e-01 -2.17081413e-01  1.36612818e-01\n",
            "  -1.29863665e-01 -3.67861569e-01  2.56413400e-01 -6.54285923e-02\n",
            "   5.01958728e-02 -7.73477554e-02 -1.58087835e-02 -1.02155305e-01\n",
            "  -5.61908126e-01  3.18129897e-01 -3.14258516e-01  5.53022563e-01\n",
            "  -1.02073021e-01 -4.88485061e-02  1.31777748e-01  3.59131336e-01\n",
            "  -5.60121015e-02 -7.67939568e-01 -5.69178462e-01 -7.25714087e-01\n",
            "  -1.68290257e-01 -3.00967544e-01 -1.03889756e-01 -3.16696554e-01\n",
            "  -1.47137240e-01 -3.66093725e-01  7.52627030e-02  5.82443714e-01\n",
            "  -1.25502542e-01  1.77554429e-01  8.71215314e-02 -2.00341389e-01\n",
            "   7.29259849e-01 -3.36003929e-01 -4.25723046e-01  1.96568310e-01\n",
            "  -6.18776798e-01 -1.09022222e-02 -2.15161532e-01 -5.08796453e-01\n",
            "   3.69300753e-01  2.57601351e-01 -4.30801541e-01  1.83822080e-01\n",
            "  -3.29524986e-02 -1.04883008e-01  2.39746869e-02 -6.36065528e-02\n",
            "  -5.06651878e-01  4.49970067e-01 -4.57834005e-01 -3.89842212e-01\n",
            "  -6.51044726e-01 -9.19462740e-02  3.66329521e-01  1.64030958e-02\n",
            "  -2.56681770e-01 -1.36094064e-01 -6.30526915e-02  4.70513612e-01\n",
            "   3.84139895e-01 -5.03701806e-01 -2.81882256e-01 -5.58085084e-01\n",
            "  -1.71836734e-01  6.16423249e-01 -5.24951294e-02 -5.90022683e-01\n",
            "  -2.30520666e-01 -3.89394045e-01 -6.26143694e-01  5.51414490e-01\n",
            "   4.31397036e-02 -4.02228415e-01  5.53296626e-01  2.72540361e-01\n",
            "   2.57127672e-01  3.25199723e-01 -5.70330583e-02  5.19266278e-02\n",
            "   2.65025437e-01 -3.91254216e-01  1.09560207e-01 -5.50782047e-02\n",
            "  -5.11531889e-01  2.96786517e-01  2.28829563e-01  2.41091013e-01\n",
            "   1.93869248e-01  6.68878973e-01  1.59380227e-01  2.01116264e-01\n",
            "   4.70697880e-01  7.80833244e-01 -4.74671751e-01  6.19385689e-02\n",
            "  -4.01146799e-01 -2.79100597e-01  3.34813744e-01 -2.35218868e-01\n",
            "  -4.31799889e-01  4.14263427e-01  2.81860471e-01  8.70380759e-01\n",
            "   4.29015905e-01 -3.35263759e-01 -7.19002634e-02  5.38361371e-02\n",
            "  -3.62910122e-01  1.14139266e-01  1.66657493e-01  3.41733515e-01\n",
            "   1.53887019e-01 -5.42712331e-01 -1.00561178e+00  8.36228907e-01\n",
            "   2.09850475e-01 -7.12193966e-01  2.73405701e-01 -6.70728326e-01\n",
            "   3.76619965e-01 -5.15765727e-01  9.54640433e-02 -1.80063900e-02\n",
            "   7.24405587e-01 -2.76325345e-01 -4.10933614e-01  3.31934780e-01\n",
            "   6.74906671e-01 -5.25550902e-01  4.50503170e-01  1.28853485e-01\n",
            "   2.40405217e-01 -1.36009648e-01  4.90975440e-01  2.27003947e-01\n",
            "  -3.61754090e-01 -2.75049299e-01  3.57189000e-01  5.26902914e-01\n",
            "   2.93414474e-01  1.29385769e-01  1.19173229e-01  2.11990997e-01\n",
            "   9.05309021e-01 -3.09057504e-01  3.22445929e-01  1.62275136e-01\n",
            "  -7.30713248e-01 -1.47059988e-02  9.95915085e-02  2.45005205e-01\n",
            "   2.48402208e-01  4.09283072e-01 -1.72121376e-01 -1.20143068e+00\n",
            "   1.03147351e-03 -4.59377736e-01 -1.93021938e-01 -8.72798935e-02\n",
            "  -1.86038688e-01 -1.55908778e-01 -1.67391315e-01  5.43062128e-02\n",
            "   6.16397202e-01 -1.12475477e-01 -9.44594562e-01  7.37744570e-01\n",
            "  -1.73598286e-02  2.93491364e-01 -2.26629555e-01  4.64549780e-01\n",
            "  -1.62738472e-01 -2.46403366e-01 -8.81010741e-02  1.12029761e-01\n",
            "  -5.24045005e-02  1.51058459e+00 -1.82314664e-01  7.30208457e-02\n",
            "   3.39960665e-01  8.12528670e-01 -4.88059223e-02 -4.84816343e-01\n",
            "  -8.00391257e-01 -7.57548690e-01  2.01452911e-01 -2.22295880e-01\n",
            "  -9.98911440e-01  8.39417279e-02 -7.48973370e-01  1.59143001e-01\n",
            "   2.67485589e-01 -2.74880052e-01  7.72737920e-01  6.34587765e-01\n",
            "   3.56143594e-01 -4.70233232e-01  1.82893500e-01 -5.92212737e-01\n",
            "   5.40354587e-02  2.74710268e-01 -4.23683561e-02  3.86047155e-01\n",
            "   9.49211597e-01 -2.98231393e-01 -2.93086857e-01 -1.19412673e+00\n",
            "   1.21367529e-01  4.69208241e-01  1.63251922e-01 -5.63569903e-01\n",
            "   3.30539197e-01  1.22554727e-01  1.09307241e+00 -4.76269811e-01\n",
            "   1.84522774e-02  3.25708598e-01 -1.70213021e-02  4.06562984e-01\n",
            "   3.10377181e-01 -1.30552962e-01 -2.56463856e-01  1.50444403e-01\n",
            "   4.48915511e-01  1.09338689e+00  7.31318772e-01 -2.69429088e-01\n",
            "   3.04613084e-01  5.67564189e-01 -3.36348653e-01  1.04246408e-01\n",
            "  -2.30598688e-01  4.02982235e-02 -2.96042475e-04  2.10811943e-01\n",
            "   2.74690300e-01 -5.76652348e-01 -1.45770043e-01  1.30993783e-01\n",
            "   1.10414185e-01 -1.77689627e-01  5.55013537e-01 -9.84559655e-02\n",
            "   5.44799387e-01  7.11221099e-02 -1.15578607e-01  2.08681419e-01\n",
            "  -3.90846193e-01 -1.89853758e-01  1.66890725e-01 -1.53607324e-01\n",
            "   3.17018688e-01  5.71440995e-01  9.94401649e-02  2.03761697e-01\n",
            "  -5.30404449e-01  3.82997133e-02 -1.82386860e-01 -1.40397817e-01\n",
            "   1.45387232e-01  1.27551943e-01 -8.67456421e-02 -1.08013310e-01\n",
            "   3.59081477e-01  2.32178140e-02 -1.00290522e-01 -1.30853966e-01\n",
            "   3.58858824e-01  2.48363670e-02 -2.76311338e-01 -4.05764170e-02\n",
            "  -5.42763829e-01  6.56011999e-01 -4.70987335e-02  2.30701298e-01\n",
            "   1.22695183e-02  1.65005103e-01 -2.74125874e-01  4.42620486e-01\n",
            "  -9.65345725e-02  3.78721744e-01  1.07369609e-01  3.43233049e-01\n",
            "   1.47690415e-01  2.21245006e-01 -3.16206962e-02  3.13109040e-01\n",
            "   3.94531369e-01 -4.83637840e-01 -3.98119390e-02 -2.28941478e-02\n",
            "  -2.74856150e-01  1.95337817e-01 -1.06497362e-01 -1.76306918e-01\n",
            "  -3.16018373e-01 -2.88102329e-01 -2.02631712e-01  3.78972143e-01\n",
            "  -2.52234071e-01  7.00547218e-01 -2.69857138e-01  3.24673384e-01\n",
            "  -7.86114708e-02  4.44527596e-01 -8.49845484e-02  2.90213704e-01\n",
            "  -6.26138210e-01  1.08834952e-01  2.40847655e-02  8.82219195e-01\n",
            "  -1.72664300e-01 -1.48988932e-01  2.04863787e-01 -6.28694415e-01\n",
            "   3.07061765e-02  6.71566138e-03  1.58507496e-01 -6.85032755e-02\n",
            "  -5.93100846e-01  1.46382749e-01  3.98345351e-01  5.54196596e-01\n",
            "  -4.21583056e-01  1.12714134e-01  4.87422913e-01  4.55542624e-01\n",
            "   3.82970124e-01  4.61840406e-02 -2.30225876e-01 -6.04012430e-01\n",
            "  -9.63457003e-02 -6.80034101e-01  3.29013288e-01 -5.88831434e-04\n",
            "   1.56945229e-01 -3.65149044e-02 -6.87732100e-02 -7.11068287e-02\n",
            "  -5.23935378e-01 -9.18642506e-02 -3.69105220e-01  2.82196552e-01\n",
            "  -3.81780535e-01 -3.76219451e-02  8.58341455e-02 -5.62941909e-01\n",
            "   1.35652155e-01 -1.38628319e-01 -1.59035325e-01 -6.02096319e-01\n",
            "  -4.97912705e-01  3.12154233e-01  8.33885789e-01 -2.54465371e-01\n",
            "   3.21823895e-01  6.22872472e-01  5.59181392e-01  6.96609497e-01\n",
            "   1.36112884e-01 -4.03625846e-01 -1.73915669e-01 -2.04281554e-01\n",
            "   3.39723229e-01  4.75808680e-01  7.83809364e-01 -1.36802882e-01\n",
            "  -3.77177775e-01 -1.32673800e-01  5.98075390e-01  3.51867103e-03\n",
            "   4.36299562e-01 -1.30827054e-01  6.68108165e-01 -4.44887936e-01\n",
            "   1.97697237e-01  2.25528568e-01 -8.80712830e-03  2.47236803e-01\n",
            "  -3.19497108e-01  3.56813967e-01 -4.96466607e-01 -6.91570640e-02\n",
            "   1.75442491e-02 -2.43348926e-01  4.11531806e-01 -6.61162734e-02\n",
            "   2.08630234e-01  5.27687259e-02  1.15148753e-01  3.85242075e-01\n",
            "  -6.71363026e-02 -1.57911628e-01 -3.16158235e-01 -3.44512045e-01\n",
            "  -1.03397757e-01 -7.79748797e-01 -4.08619791e-01  1.77182958e-01\n",
            "   4.00175899e-03 -3.41992587e-01 -5.90491891e-02  5.53429663e-01\n",
            "   4.17224199e-01 -4.63288510e-03 -3.16977978e-01 -1.12230027e+00\n",
            "  -6.52424395e-01 -3.93960625e-01  1.48661375e-01  1.37526035e-01\n",
            "  -2.72599280e-01  5.78514814e-01  8.00447822e-01  1.31411418e-01\n",
            "  -3.61583233e-01  1.57178506e-01  2.45672792e-01  3.66356336e-02\n",
            "  -6.50609791e-01  6.63742274e-02  6.93479121e-01 -2.82352239e-01\n",
            "   2.01684505e-01 -2.87264019e-01  5.64156830e-01  2.97085971e-01\n",
            "  -3.83422703e-01  1.32347643e-01 -1.28300518e-01 -3.30000848e-01\n",
            "  -2.20870122e-01 -3.44900787e-02 -3.22319776e-01 -4.19949815e-02\n",
            "  -7.28003262e-03  5.94934002e-02  3.22537690e-01  2.27273136e-01\n",
            "  -4.16265011e-01 -1.05112325e-02 -7.00946823e-02  1.72031954e-01\n",
            "  -1.28749371e+00  1.53885707e-01 -6.09950244e-01  1.15418243e+00\n",
            "  -1.55184507e-01 -4.13551837e-01 -5.83703965e-02  8.63590777e-01\n",
            "  -1.45089462e-01  1.89778373e-01  7.50158504e-02 -1.08950399e-01\n",
            "  -4.07180071e-01  4.24988121e-02 -1.74646899e-01  5.52478731e-01\n",
            "  -3.17131728e-01 -3.16521563e-02 -2.14160383e-01 -1.99674737e+00\n",
            "   2.45871231e-01  1.80230379e-01  2.00294077e-01 -3.40677537e-02\n",
            "   1.88789964e-01 -6.34045720e-01 -2.94325531e-01  6.48500398e-02\n",
            "  -4.02455121e-01  1.93334110e-02 -2.66493499e-01 -3.57943699e-02\n",
            "  -3.44002724e-01  1.75938271e-02 -1.02844097e-01  1.94846332e-01\n",
            "  -2.94878751e-01  6.13919318e-01  3.37298781e-01  2.52553850e-01\n",
            "   4.08847272e-01 -4.17525411e-01  4.31900203e-01  4.30952579e-01\n",
            "   3.14795636e-02  5.26867628e-01  1.43479422e-01  1.23541486e-02\n",
            "  -1.57168973e-02 -8.37273180e-01  6.61930814e-02 -5.12526035e-02\n",
            "   9.29839537e-02  2.99689591e-01 -2.66348839e-01  1.25128359e-01]]\n"
          ],
          "name": "stdout"
        }
      ]
    },
    {
      "cell_type": "code",
      "metadata": {
        "id": "_frnTeyHUKpd",
        "colab": {
          "base_uri": "https://localhost:8080/"
        },
        "outputId": "2c04bf16-3e3d-445f-e178-a3da9b7332ce"
      },
      "source": [
        "total_sent_vector = {}\n",
        "for i, sent in enumerate(total_sent):   # 전체 문장 pool을 전부 embedding!\n",
        "    total_sent_vector[sent] = get_cls_token(sent)   # {key, value} = {문장, vector}\n",
        "    if i % 500==0:\n",
        "        print(i)"
      ],
      "execution_count": 16,
      "outputs": [
        {
          "output_type": "stream",
          "text": [
            "0\n",
            "500\n",
            "1000\n",
            "1500\n",
            "2000\n",
            "2500\n",
            "3000\n",
            "3500\n",
            "4000\n",
            "4500\n",
            "5000\n",
            "5500\n",
            "6000\n",
            "6500\n",
            "7000\n",
            "7500\n",
            "8000\n",
            "8500\n",
            "9000\n",
            "9500\n"
          ],
          "name": "stdout"
        }
      ]
    },
    {
      "cell_type": "code",
      "metadata": {
        "id": "8W0_vj_XTw2D"
      },
      "source": [
        "import numpy as np"
      ],
      "execution_count": 17,
      "outputs": []
    },
    {
      "cell_type": "code",
      "metadata": {
        "id": "M2MbVWnMRfpa"
      },
      "source": [
        "def custom_cosine_similarity(a,b):\n",
        "    numerator = np.dot(a,b.T)\n",
        "    a_norm = np.sqrt(np.sum(a * a))\n",
        "    b_norm = np.sqrt(np.sum(b * b, axis=-1))\n",
        "\n",
        "    denominator = a_norm * b_norm\n",
        "    return numerator/denominator"
      ],
      "execution_count": 18,
      "outputs": []
    },
    {
      "cell_type": "code",
      "metadata": {
        "id": "MeQmkkt-I2eT"
      },
      "source": [
        "non_similar_sents = {}"
      ],
      "execution_count": 19,
      "outputs": []
    },
    {
      "cell_type": "code",
      "metadata": {
        "id": "tl4IrQqhRq__"
      },
      "source": [
        "for key in similar_sents.keys():    # similar_sents dict의 sentence를 가져옵니다.\n",
        "    key_sent_vector = total_sent_vector[key]    # 전체 문장 pool에서 해당 sent의 vector을 가져옵니다.\n",
        "    sentence_similarity = {}                    # 다음으로는 전체 문장 pool의 모든 vector와 비교하며\n",
        "    for sent in total_sent:                     # 가장 유사한 문장을 가져옵니다.\n",
        "        if sent not in similar_sents[key] and sent != key:\n",
        "            sent_vector = total_sent_vector[sent]\n",
        "            similarity = custom_cosine_similarity(key_sent_vector, sent_vector)\n",
        "            sentence_similarity[sent] = similarity\n",
        "    sorted_sim = sorted(sentence_similarity.items(), key=lambda x: x[1], reverse=True)\n",
        "    non_similar_sents[key] = sorted_sim[0:10]   # similar_sents dict의 문장과 가장 유사한 10개의 문장을 반환합니다."
      ],
      "execution_count": 20,
      "outputs": []
    },
    {
      "cell_type": "code",
      "metadata": {
        "colab": {
          "base_uri": "https://localhost:8080/"
        },
        "id": "_6buedHhTvDM",
        "outputId": "310f66b4-643c-4103-935f-e81a62f56b09"
      },
      "source": [
        "for i, key in enumerate(non_similar_sents.keys()):\n",
        "    print('\\n', key)\n",
        "    for sent in non_similar_sents[key]:\n",
        "        print(\"-\", sent)\n",
        "    if i > 3:\n",
        "        break"
      ],
      "execution_count": 21,
      "outputs": [
        {
          "output_type": "stream",
          "text": [
            "\n",
            " 메일을 다 비울까 아니면 안읽은 것만 지울까?\n",
            "- ('안방 말고 지금 거실 온도 좀 볼 수 있을까?', array([[0.98267]], dtype=float32))\n",
            "- ('안 읽은 메일함이랑 스팸 메일함이랑 비교했을 때 어디가 더 차있지?', array([[0.97837853]], dtype=float32))\n",
            "- ('가습기가 필요한게 아니고 제습기 하나 사야될 것 같지 않아?', array([[0.97624516]], dtype=float32))\n",
            "- ('일월이 바쁘신가요, 아니면 이월이 더 바쁘신가요?', array([[0.97588336]], dtype=float32))\n",
            "- ('안방하고 거실 중에 너가 로봇청소기를 틀고 싶은 곳은 어딜까?', array([[0.97562]], dtype=float32))\n",
            "- ('안방 말고 거실 온도 보려면 어떻게 말해야하나?', array([[0.97547626]], dtype=float32))\n",
            "- ('지금 네가 하고 싶은게 외출모드일까 아님 방범모드일까?', array([[0.9754139]], dtype=float32))\n",
            "- ('메일을 상사에게 어떻게 보내야해?', array([[0.9753622]], dtype=float32))\n",
            "- ('안방 말고 거실 지금 온도 보려면 뭐라고 해야해?', array([[0.9751789]], dtype=float32))\n",
            "- ('목욕물을 개인별로 세팅하고 싶은데요 어떻게 하면 좋을까요?', array([[0.97513217]], dtype=float32))\n",
            "\n",
            " 지메일 쓸래, 네이버 메일 쓸래\n",
            "- ('한메일 계정은 그만 만들고 네이버 계정으로 만들어', array([[0.9531825]], dtype=float32))\n",
            "- ('참조 메일주소는 모으지 않아도 돼. 보낸 사람 중에서 특수문자가 있는 메일주소만 모아줘.', array([[0.94958127]], dtype=float32))\n",
            "- ('모니터말고 빔프로젝터로 영화 띄워서 보자', array([[0.94864094]], dtype=float32))\n",
            "- ('아웃룩 외부 연동 메일이 세개 이상이 되지 않도록 연동 개수를 확인하고, 세개 이상인 경우 두개로 줄이시기 바랍니다.', array([[0.94794756]], dtype=float32))\n",
            "- ('usb로 파일을 전달하지 말고 네이버 메일로 보내', array([[0.94788885]], dtype=float32))\n",
            "- ('파일 전송은 지메일 보단 네이버 메일을 사용해', array([[0.9477934]], dtype=float32))\n",
            "- ('메일을 지울 때 첨부파일 용량이 작은 메일은 남겨두고, 큰 메일은 전부 지우는게 좋아.', array([[0.9470954]], dtype=float32))\n",
            "- ('다른 이메일을 사용해. 지메일은 안돼', array([[0.9469804]], dtype=float32))\n",
            "- ('리눅스에서 제공하는 메일관리 기능과 윈도우에서 제공하는 메일 관리 기능 중 뭐가 더 편했니?', array([[0.9469311]], dtype=float32))\n",
            "- ('아웃룩은 리눅스가 아닌 운영체제에서 이용하길 바래', array([[0.94628114]], dtype=float32))\n",
            "\n",
            " 지메일이랑 네이버 메일 중 파일 전송용량이 뭐가 더 크지?\n",
            "- ('네이버랑 네이트 중에 뭐가 더 메일 첨부파일이 더 빨리 가?', array([[0.98365635]], dtype=float32))\n",
            "- ('네이버 메일 보관기간이랑 쪽지 보관기간 중 뭐가 더 길어?', array([[0.9784979]], dtype=float32))\n",
            "- ('메일 보관기간이 보낸 메일함이랑 임시보관함 중 뭐가 더 길지?', array([[0.9780388]], dtype=float32))\n",
            "- ('와디즈 광고메일이랑 텀블벅 광고 메일이 어떻게 다른지 설명해주실래요?', array([[0.9778222]], dtype=float32))\n",
            "- ('메일 보관을 보낸 메일함이랑 임시보관함 중 뭐가 더 오래하지?', array([[0.9773969]], dtype=float32))\n",
            "- ('네이버 메일이랑 지메일 중에 어떤 걸 써?', array([[0.97736895]], dtype=float32))\n",
            "- ('보관기간이 네이버 메일과 쪽지 중 뭐가 더 길까?', array([[0.9762872]], dtype=float32))\n",
            "- ('학교 메일 수신 비율과 광고 메일 수신 비율 중 뭐가 더 큰가요?', array([[0.9762574]], dtype=float32))\n",
            "- ('보낸메일함이랑 임시보관함 중에 뭐가 더 메일을 오래 보관하지?', array([[0.9755427]], dtype=float32))\n",
            "- ('아웃룩이랑 지메일 중 어떤게 외부 메일 연동이 더 쉽지?', array([[0.974851]], dtype=float32))\n",
            "\n",
            " 네이트 메일이랑 한메일 중 어느 것이 먼저 서비스를 종료하지?\n",
            "- ('네이트랑 네이버 둘 중에 어디가 자동저장 기능을 제공하지?', array([[0.9796959]], dtype=float32))\n",
            "- ('네이버 메일이랑 지메일 중에 어떤게 파일용량을 더 많이 전송할 수 있어?', array([[0.9780613]], dtype=float32))\n",
            "- ('네이버랑 네이트 중에 누가 메일 자동 임시저장 기능을 제공하지?', array([[0.977172]], dtype=float32))\n",
            "- ('광고 메일 중 어떤 토픽이 가장 비중이 높아?', array([[0.97484076]], dtype=float32))\n",
            "- ('남아있는 저장공간이 다음 메일이랑 네이버 메일 중 어디가 더 많이 남았지?', array([[0.97435004]], dtype=float32))\n",
            "- ('라인 대화내용을 지메일로 전송하고 싶은데 알려줄 수 있어?', array([[0.9743389]], dtype=float32))\n",
            "- ('정부기관 보안에 걸리지 않고 싶은데 하교 메일이랑 지메일 중 어떤 것이 그렇지?', array([[0.97395116]], dtype=float32))\n",
            "- ('메일 받는 사람이 군인 친구면 어떤 점을 주의해야할까요?', array([[0.9723251]], dtype=float32))\n",
            "- ('아웃룩이랑 지메일 중 어떤게 외부 메일 연동이 더 쉽지?', array([[0.9719846]], dtype=float32))\n",
            "- ('첨부 파일 보낼 때 네이버랑 네이트 중 뭐가 더 시간이 짧게 걸려?', array([[0.97197497]], dtype=float32))\n",
            "\n",
            " 네이트 메일이랑 네이버 메일이랑 둘 중 접속 가능한 거 알려줘\n",
            "- ('네이트 메일이랑 한메일 중에 뭐가 더 먼저 종료하는 지 알려줘', array([[0.97568053]], dtype=float32))\n",
            "- ('어제 학교 사람이 보낸 메일 제목 알려줘', array([[0.97230077]], dtype=float32))\n",
            "- ('전자레인지와 가스레인지 중에 요리하고 싶은 걸로 알려줘', array([[0.9722345]], dtype=float32))\n",
            "- ('가스레인지랑 전자레인지 중에 요리하기 편한 걸로 알려줘', array([[0.97180617]], dtype=float32))\n",
            "- ('다음 메일 저장공간이랑 네이버 메일 저장공간 중 많이 남은 거 알려줘', array([[0.9713304]], dtype=float32))\n",
            "- ('네이버 메일이랑 엔드라이브랑 연동이 되는지 알려줘', array([[0.97011083]], dtype=float32))\n",
            "- ('요리 레시피 알고 싶은데 어떻게 하는 지좀 알려줘', array([[0.96997654]], dtype=float32))\n",
            "- ('티비 켜고 싶은데 말로 어떻게 명령해야하는 지 알려줘', array([[0.9698959]], dtype=float32))\n",
            "- ('지금 보일러 상태 어떤지 좀 확인하고 싶으니까 빨리 알려줘', array([[0.96960616]], dtype=float32))\n",
            "- ('어제 경재 메일이 도착한 시간 좀 알려줘', array([[0.9692466]], dtype=float32))\n"
          ],
          "name": "stdout"
        }
      ]
    },
    {
      "cell_type": "markdown",
      "metadata": {
        "id": "zJbsAoSxbRwp"
      },
      "source": [
        "이제 유사한 문장, 유사하지 않은 문장을 데이터로 출력하겠습니다."
      ]
    },
    {
      "cell_type": "code",
      "metadata": {
        "colab": {
          "base_uri": "https://localhost:8080/"
        },
        "id": "-GpqhrUGDg_f",
        "outputId": "0fe9053e-1c40-43ed-8e76-198650a0af3c"
      },
      "source": [
        "from google.colab import drive\n",
        "drive.mount('/content/drive')"
      ],
      "execution_count": 22,
      "outputs": [
        {
          "output_type": "stream",
          "text": [
            "Mounted at /content/drive\n"
          ],
          "name": "stdout"
        }
      ]
    },
    {
      "cell_type": "code",
      "metadata": {
        "colab": {
          "base_uri": "https://localhost:8080/",
          "height": 35
        },
        "id": "AkVdSjLcEhZt",
        "outputId": "32a11bf0-2dbf-47ed-cf8c-891e9333c8b5"
      },
      "source": [
        "import os\n",
        "os.getcwd()"
      ],
      "execution_count": 23,
      "outputs": [
        {
          "output_type": "execute_result",
          "data": {
            "application/vnd.google.colaboratory.intrinsic+json": {
              "type": "string"
            },
            "text/plain": [
              "'/content'"
            ]
          },
          "metadata": {
            "tags": []
          },
          "execution_count": 23
        }
      ]
    },
    {
      "cell_type": "code",
      "metadata": {
        "id": "NoYRLDYtbRS3"
      },
      "source": [
        "output = open(r'./drive/MyDrive/Colab Notebooks/para_kqc_sim_data.txt', 'w', encoding='utf-8')   # 이걸 데이터로 만들어줍니다 :-)"
      ],
      "execution_count": 25,
      "outputs": []
    },
    {
      "cell_type": "code",
      "metadata": {
        "id": "OBAYqV-Abkg5"
      },
      "source": [
        "for i, key in enumerate(similar_sents.keys()):\n",
        "    for sent in similar_sents[key]:\n",
        "        output.write(key + '\\t' + sent + '\\t1\\n')"
      ],
      "execution_count": 26,
      "outputs": []
    },
    {
      "cell_type": "code",
      "metadata": {
        "id": "-yUA3_e8btfg"
      },
      "source": [
        "for i, key in enumerate(non_similar_sents.keys()):\n",
        "    for sent in non_similar_sents[key]:\n",
        "        output.write(key + '\\t' + sent[0] + '\\t0\\n')"
      ],
      "execution_count": 27,
      "outputs": []
    },
    {
      "cell_type": "code",
      "metadata": {
        "id": "fYOOvnXxbwta"
      },
      "source": [
        "output.close()"
      ],
      "execution_count": 28,
      "outputs": []
    },
    {
      "cell_type": "code",
      "metadata": {
        "id": "9v122RzWE3el"
      },
      "source": [
        ""
      ],
      "execution_count": null,
      "outputs": []
    }
  ]
}