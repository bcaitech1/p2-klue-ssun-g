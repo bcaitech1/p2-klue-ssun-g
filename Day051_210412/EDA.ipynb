{
 "cells": [
  {
   "cell_type": "markdown",
   "id": "c575b88c-5250-40d3-9cce-7db5c77ad54a",
   "metadata": {},
   "source": [
    "### 한글 폰트를 사용하기 위한 설정"
   ]
  },
  {
   "cell_type": "code",
   "execution_count": 1,
   "id": "a7e4f862-729a-4cdb-892f-f02f58e1c5cd",
   "metadata": {},
   "outputs": [],
   "source": [
    "import matplotlib.pyplot as plt\n",
    "import matplotlib.font_manager as fm\n",
    "import matplotlib as mpl\n",
    "\n",
    "# %config InlineBackend.figure_format = 'retina'\n",
    "# !apt -qq -y install fonts-nanum\n",
    "\n",
    "fontpath = '/usr/share/fonts/truetype/nanum/NanumBarunGothic.ttf'\n",
    "font = fm.FontProperties(fname=fontpath, size=10)\n",
    "\n",
    "plt.rc('font', family='NanumBarunGothic')\n",
    "mpl.rcParams['axes.unicode_minus'] = False\n",
    "# mpl.font_manager._rebuild()"
   ]
  },
  {
   "cell_type": "markdown",
   "id": "8f9594fd-b5a0-42df-8bf3-3fe1c65acf06",
   "metadata": {},
   "source": [
    "### 사용할 라이브러리 import"
   ]
  },
  {
   "cell_type": "code",
   "execution_count": 2,
   "id": "9573df63-4bc4-482f-9cbd-1d72cb837cfa",
   "metadata": {},
   "outputs": [],
   "source": [
    "import pickle\n",
    "import re\n",
    "import numpy as np\n",
    "import pandas as pd\n",
    "import matplotlib.pyplot as plt\n",
    "import seaborn as sns\n",
    "# plt.style.use('seaborn')\n",
    "\n",
    "import missingno as msno\n",
    "\n",
    "import warnings\n",
    "warnings.filterwarnings('ignore')\n",
    "\n",
    "%matplotlib inline"
   ]
  },
  {
   "cell_type": "markdown",
   "id": "f4985b71-8933-471c-be67-d4cbf69fa703",
   "metadata": {},
   "source": [
    "### baseline labeling"
   ]
  },
  {
   "cell_type": "code",
   "execution_count": 3,
   "id": "535fc2e6-97a3-4862-beb9-d9e255c35a7b",
   "metadata": {},
   "outputs": [],
   "source": [
    "def preprocessing_dataset(dataset, label_type):\n",
    "    label = []\n",
    "    for i in dataset[8]:\n",
    "        if i == 'blind':\n",
    "            label.append(100)\n",
    "        else:\n",
    "            label.append(label_type[i])\n",
    "    out_dataset = pd.DataFrame({'1': dataset[1], '2': dataset[2], '3': dataset[3], '4': dataset[4], '5': dataset[5], '6': dataset[6], '7': dataset[7], '8': dataset[8]})\n",
    "    return out_dataset"
   ]
  },
  {
   "cell_type": "code",
   "execution_count": 4,
   "id": "6794e1be-ed00-4fbe-9a7b-aa6ba56069bd",
   "metadata": {},
   "outputs": [],
   "source": [
    "def load_data(dataset_dir):\n",
    "  # load label_type, classes\n",
    "  with open('/opt/ml/input/data/label_type.pkl', 'rb') as f:\n",
    "    label_type = pickle.load(f)\n",
    "  # load dataset\n",
    "  dataset = pd.read_csv(dataset_dir, delimiter='\\t', header=None)\n",
    "  # preprecessing dataset\n",
    "  dataset = preprocessing_dataset(dataset, label_type)\n",
    "  \n",
    "  return dataset"
   ]
  },
  {
   "cell_type": "code",
   "execution_count": 5,
   "id": "c81815df-744d-4d80-b1fc-3f0f151e8cab",
   "metadata": {},
   "outputs": [],
   "source": [
    "df_train = load_data('/opt/ml/input/data/train/train.tsv')"
   ]
  },
  {
   "cell_type": "code",
   "execution_count": 6,
   "id": "c3c47987-378f-46ef-b033-33a046544bca",
   "metadata": {},
   "outputs": [
    {
     "data": {
      "text/plain": [
       "{'관계_없음': 0,\n",
       " '인물:배우자': 1,\n",
       " '인물:직업/직함': 2,\n",
       " '단체:모회사': 3,\n",
       " '인물:소속단체': 4,\n",
       " '인물:동료': 5,\n",
       " '단체:별칭': 6,\n",
       " '인물:출신성분/국적': 7,\n",
       " '인물:부모님': 8,\n",
       " '단체:본사_국가': 9,\n",
       " '단체:구성원': 10,\n",
       " '인물:기타_친족': 11,\n",
       " '단체:창립자': 12,\n",
       " '단체:주주': 13,\n",
       " '인물:사망_일시': 14,\n",
       " '단체:상위_단체': 15,\n",
       " '단체:본사_주(도)': 16,\n",
       " '단체:제작': 17,\n",
       " '인물:사망_원인': 18,\n",
       " '인물:출생_도시': 19,\n",
       " '단체:본사_도시': 20,\n",
       " '인물:자녀': 21,\n",
       " '인물:제작': 22,\n",
       " '단체:하위_단체': 23,\n",
       " '인물:별칭': 24,\n",
       " '인물:형제/자매/남매': 25,\n",
       " '인물:출생_국가': 26,\n",
       " '인물:출생_일시': 27,\n",
       " '단체:구성원_수': 28,\n",
       " '단체:자회사': 29,\n",
       " '인물:거주_주(도)': 30,\n",
       " '단체:해산일': 31,\n",
       " '인물:거주_도시': 32,\n",
       " '단체:창립일': 33,\n",
       " '인물:종교': 34,\n",
       " '인물:거주_국가': 35,\n",
       " '인물:용의자': 36,\n",
       " '인물:사망_도시': 37,\n",
       " '단체:정치/종교성향': 38,\n",
       " '인물:학교': 39,\n",
       " '인물:사망_국가': 40,\n",
       " '인물:나이': 41}"
      ]
     },
     "execution_count": 6,
     "metadata": {},
     "output_type": "execute_result"
    }
   ],
   "source": [
    "with open('/opt/ml/input/data/label_type.pkl', 'rb') as f:\n",
    "    label_type = pickle.load(f)\n",
    "label_type"
   ]
  },
  {
   "cell_type": "code",
   "execution_count": 7,
   "id": "056ceec3-c6af-4709-ba54-65775ba0bef0",
   "metadata": {},
   "outputs": [
    {
     "data": {
      "text/html": [
       "<div>\n",
       "<style scoped>\n",
       "    .dataframe tbody tr th:only-of-type {\n",
       "        vertical-align: middle;\n",
       "    }\n",
       "\n",
       "    .dataframe tbody tr th {\n",
       "        vertical-align: top;\n",
       "    }\n",
       "\n",
       "    .dataframe thead th {\n",
       "        text-align: right;\n",
       "    }\n",
       "</style>\n",
       "<table border=\"1\" class=\"dataframe\">\n",
       "  <thead>\n",
       "    <tr style=\"text-align: right;\">\n",
       "      <th></th>\n",
       "      <th>1</th>\n",
       "      <th>2</th>\n",
       "      <th>3</th>\n",
       "      <th>4</th>\n",
       "      <th>5</th>\n",
       "      <th>6</th>\n",
       "      <th>7</th>\n",
       "      <th>8</th>\n",
       "    </tr>\n",
       "  </thead>\n",
       "  <tbody>\n",
       "    <tr>\n",
       "      <th>0</th>\n",
       "      <td>영국에서 사용되는 스포츠 유틸리티 자동차의 브랜드로는 랜드로버(Land Rover)...</td>\n",
       "      <td>랜드로버</td>\n",
       "      <td>30</td>\n",
       "      <td>33</td>\n",
       "      <td>자동차</td>\n",
       "      <td>19</td>\n",
       "      <td>21</td>\n",
       "      <td>단체:제작</td>\n",
       "    </tr>\n",
       "    <tr>\n",
       "      <th>1</th>\n",
       "      <td>선거에서 민주당은 해산 전 의석인 230석에 한참 못 미치는 57석(지역구 27석,...</td>\n",
       "      <td>민주당</td>\n",
       "      <td>5</td>\n",
       "      <td>7</td>\n",
       "      <td>27석</td>\n",
       "      <td>42</td>\n",
       "      <td>44</td>\n",
       "      <td>관계_없음</td>\n",
       "    </tr>\n",
       "    <tr>\n",
       "      <th>2</th>\n",
       "      <td>유럽 축구 연맹(UEFA) 집행위원회는 2014년 1월 24일에 열린 회의를 통해 ...</td>\n",
       "      <td>유럽 축구 연맹</td>\n",
       "      <td>0</td>\n",
       "      <td>7</td>\n",
       "      <td>UEFA</td>\n",
       "      <td>9</td>\n",
       "      <td>12</td>\n",
       "      <td>단체:별칭</td>\n",
       "    </tr>\n",
       "    <tr>\n",
       "      <th>3</th>\n",
       "      <td>용병 공격수 챠디의 부진과 시즌 초 활약한 강수일의 침체, 시즌 중반에 영입한 세르...</td>\n",
       "      <td>강수일</td>\n",
       "      <td>24</td>\n",
       "      <td>26</td>\n",
       "      <td>공격수</td>\n",
       "      <td>3</td>\n",
       "      <td>5</td>\n",
       "      <td>인물:직업/직함</td>\n",
       "    </tr>\n",
       "    <tr>\n",
       "      <th>4</th>\n",
       "      <td>람캄행 왕은 1237년에서 1247년 사이 수코타이의 왕 퍼쿤 씨 인트라팃과 쓰엉 ...</td>\n",
       "      <td>람캄행</td>\n",
       "      <td>0</td>\n",
       "      <td>2</td>\n",
       "      <td>퍼쿤 씨 인트라팃</td>\n",
       "      <td>32</td>\n",
       "      <td>40</td>\n",
       "      <td>인물:부모님</td>\n",
       "    </tr>\n",
       "  </tbody>\n",
       "</table>\n",
       "</div>"
      ],
      "text/plain": [
       "                                                   1         2   3   4  \\\n",
       "0  영국에서 사용되는 스포츠 유틸리티 자동차의 브랜드로는 랜드로버(Land Rover)...      랜드로버  30  33   \n",
       "1  선거에서 민주당은 해산 전 의석인 230석에 한참 못 미치는 57석(지역구 27석,...       민주당   5   7   \n",
       "2  유럽 축구 연맹(UEFA) 집행위원회는 2014년 1월 24일에 열린 회의를 통해 ...  유럽 축구 연맹   0   7   \n",
       "3  용병 공격수 챠디의 부진과 시즌 초 활약한 강수일의 침체, 시즌 중반에 영입한 세르...       강수일  24  26   \n",
       "4  람캄행 왕은 1237년에서 1247년 사이 수코타이의 왕 퍼쿤 씨 인트라팃과 쓰엉 ...       람캄행   0   2   \n",
       "\n",
       "           5   6   7         8  \n",
       "0        자동차  19  21     단체:제작  \n",
       "1        27석  42  44     관계_없음  \n",
       "2       UEFA   9  12     단체:별칭  \n",
       "3        공격수   3   5  인물:직업/직함  \n",
       "4  퍼쿤 씨 인트라팃  32  40    인물:부모님  "
      ]
     },
     "execution_count": 7,
     "metadata": {},
     "output_type": "execute_result"
    }
   ],
   "source": [
    "df_train.head()"
   ]
  },
  {
   "cell_type": "markdown",
   "id": "870f88af-0859-4886-bc0d-2422806a1863",
   "metadata": {},
   "source": [
    "### label 분포"
   ]
  },
  {
   "cell_type": "code",
   "execution_count": 8,
   "id": "66907a43-bcb4-4092-bf80-70994e9db954",
   "metadata": {},
   "outputs": [
    {
     "name": "stdout",
     "output_type": "stream",
     "text": [
      "관계 없음 4432\n",
      "인물 2449\n",
      "단체 2119\n"
     ]
    }
   ],
   "source": [
    "print('관계 없음', df_train['8'].str.contains(r'(^관계_없음)').sum())\n",
    "print('인물', df_train['8'].str.contains(r'(^인물)').sum())\n",
    "print('단체', df_train['8'].str.contains(r'(^단체)').sum())"
   ]
  },
  {
   "cell_type": "code",
   "execution_count": 9,
   "id": "2c6a7b65-7a3d-436d-9fa7-9d6a9b35800e",
   "metadata": {},
   "outputs": [
    {
     "data": {
      "text/plain": [
       "관계_없음          4432\n",
       "단체:구성원          815\n",
       "인물:소속단체         683\n",
       "인물:직업/직함        553\n",
       "단체:상위_단체        335\n",
       "단체:별칭           231\n",
       "인물:출신성분/국적      209\n",
       "인물:동료           186\n",
       "단체:제작           171\n",
       "인물:부모님          164\n",
       "단체:본사_도시        135\n",
       "단체:본사_국가        115\n",
       "인물:별칭           103\n",
       "인물:배우자           92\n",
       "인물:자녀            84\n",
       "단체:하위_단체         79\n",
       "단체:창립일           67\n",
       "인물:기타_친족         58\n",
       "인물:제작            56\n",
       "인물:형제/자매/남매      52\n",
       "단체:창립자           45\n",
       "인물:사망_일시         45\n",
       "단체:모회사           44\n",
       "인물:출생_일시         36\n",
       "인물:거주_국가         27\n",
       "인물:거주_도시         26\n",
       "단체:본사_주(도)       23\n",
       "단체:정치/종교성향       18\n",
       "단체:해산일           15\n",
       "인물:종교            15\n",
       "인물:거주_주(도)       12\n",
       "단체:주주            11\n",
       "인물:용의자           11\n",
       "인물:학교             9\n",
       "단체:구성원_수          9\n",
       "인물:출생_국가          8\n",
       "인물:사망_원인          7\n",
       "단체:자회사            6\n",
       "인물:나이             5\n",
       "인물:출생_도시          4\n",
       "인물:사망_도시          3\n",
       "인물:사망_국가          1\n",
       "Name: 8, dtype: int64"
      ]
     },
     "execution_count": 9,
     "metadata": {},
     "output_type": "execute_result"
    }
   ],
   "source": [
    "df_train['8'].value_counts()"
   ]
  },
  {
   "cell_type": "code",
   "execution_count": 10,
   "id": "6e9047ed-22e4-4336-a6ca-e2887df480e3",
   "metadata": {},
   "outputs": [
    {
     "data": {
      "image/png": "[encoded data removed]",
      "text/plain": [
       "<Figure size 576x576 with 1 Axes>"
      ]
     },
     "metadata": {
      "needs_background": "light"
     },
     "output_type": "display_data"
    }
   ],
   "source": [
    "df_train['8'] = df_train['8'].replace(\"^인물:.+\", '인물', regex=True)\n",
    "df_train['8'] = df_train['8'].replace(\"^단체:.+\", '단체', regex=True)\n",
    "\n",
    "\n",
    "sns.countplot(df_train['8'], order=df_train['8'].value_counts().index)\n",
    "fig = plt.gcf()\n",
    "fig.set_size_inches(8, 8)\n",
    "plt.xlabel('')\n",
    "plt.show()"
   ]
  },
  {
   "cell_type": "code",
   "execution_count": 11,
   "id": "9709f438-2121-44ca-a2e0-4a440914bd15",
   "metadata": {},
   "outputs": [],
   "source": [
    "def preprocessing_dataset(dataset, label_type):\n",
    "    label = []\n",
    "    for i in dataset[8]:\n",
    "        if i == 'blind':\n",
    "            label.append(100)\n",
    "        else:\n",
    "            label.append(label_type[i])\n",
    "    out_dataset = pd.DataFrame({'sentence':dataset[1],'entity_01':dataset[2],'entity_02':dataset[5],'label':label,})\n",
    "    return out_dataset"
   ]
  },
  {
   "cell_type": "code",
   "execution_count": 12,
   "id": "7c6997db-c266-4c87-a19b-787f771e6129",
   "metadata": {},
   "outputs": [],
   "source": [
    "df_train = load_data('/opt/ml/input/data/train/train.tsv')"
   ]
  },
  {
   "cell_type": "code",
   "execution_count": 13,
   "id": "7411fbf9-25b9-4ae2-9552-cbf3eea2869e",
   "metadata": {},
   "outputs": [
    {
     "data": {
      "image/png": "[encoded data removed]",
      "text/plain": [
       "<Figure size 1296x720 with 1 Axes>"
      ]
     },
     "metadata": {
      "needs_background": "light"
     },
     "output_type": "display_data"
    }
   ],
   "source": [
    "sns.countplot(df_train['label'], order=df_train['label'].value_counts().index)\n",
    "fig = plt.gcf()\n",
    "fig.set_size_inches(18, 10)\n",
    "plt.show()"
   ]
  },
  {
   "cell_type": "code",
   "execution_count": 14,
   "id": "fd523f1c-af8d-4bc2-8738-4dcfd51d3972",
   "metadata": {},
   "outputs": [
    {
     "data": {
      "text/html": [
       "<div>\n",
       "<style scoped>\n",
       "    .dataframe tbody tr th:only-of-type {\n",
       "        vertical-align: middle;\n",
       "    }\n",
       "\n",
       "    .dataframe tbody tr th {\n",
       "        vertical-align: top;\n",
       "    }\n",
       "\n",
       "    .dataframe thead th {\n",
       "        text-align: right;\n",
       "    }\n",
       "</style>\n",
       "<table border=\"1\" class=\"dataframe\">\n",
       "  <thead>\n",
       "    <tr style=\"text-align: right;\">\n",
       "      <th></th>\n",
       "      <th>sentence</th>\n",
       "      <th>entity_01</th>\n",
       "      <th>entity_02</th>\n",
       "      <th>label</th>\n",
       "    </tr>\n",
       "  </thead>\n",
       "  <tbody>\n",
       "    <tr>\n",
       "      <th>0</th>\n",
       "      <td>영국에서 사용되는 스포츠 유틸리티 자동차의 브랜드로는 랜드로버(Land Rover)...</td>\n",
       "      <td>랜드로버</td>\n",
       "      <td>자동차</td>\n",
       "      <td>17</td>\n",
       "    </tr>\n",
       "    <tr>\n",
       "      <th>1</th>\n",
       "      <td>선거에서 민주당은 해산 전 의석인 230석에 한참 못 미치는 57석(지역구 27석,...</td>\n",
       "      <td>민주당</td>\n",
       "      <td>27석</td>\n",
       "      <td>0</td>\n",
       "    </tr>\n",
       "    <tr>\n",
       "      <th>2</th>\n",
       "      <td>유럽 축구 연맹(UEFA) 집행위원회는 2014년 1월 24일에 열린 회의를 통해 ...</td>\n",
       "      <td>유럽 축구 연맹</td>\n",
       "      <td>UEFA</td>\n",
       "      <td>6</td>\n",
       "    </tr>\n",
       "    <tr>\n",
       "      <th>3</th>\n",
       "      <td>용병 공격수 챠디의 부진과 시즌 초 활약한 강수일의 침체, 시즌 중반에 영입한 세르...</td>\n",
       "      <td>강수일</td>\n",
       "      <td>공격수</td>\n",
       "      <td>2</td>\n",
       "    </tr>\n",
       "    <tr>\n",
       "      <th>4</th>\n",
       "      <td>람캄행 왕은 1237년에서 1247년 사이 수코타이의 왕 퍼쿤 씨 인트라팃과 쓰엉 ...</td>\n",
       "      <td>람캄행</td>\n",
       "      <td>퍼쿤 씨 인트라팃</td>\n",
       "      <td>8</td>\n",
       "    </tr>\n",
       "  </tbody>\n",
       "</table>\n",
       "</div>"
      ],
      "text/plain": [
       "                                            sentence entity_01  entity_02  \\\n",
       "0  영국에서 사용되는 스포츠 유틸리티 자동차의 브랜드로는 랜드로버(Land Rover)...      랜드로버        자동차   \n",
       "1  선거에서 민주당은 해산 전 의석인 230석에 한참 못 미치는 57석(지역구 27석,...       민주당        27석   \n",
       "2  유럽 축구 연맹(UEFA) 집행위원회는 2014년 1월 24일에 열린 회의를 통해 ...  유럽 축구 연맹       UEFA   \n",
       "3  용병 공격수 챠디의 부진과 시즌 초 활약한 강수일의 침체, 시즌 중반에 영입한 세르...       강수일        공격수   \n",
       "4  람캄행 왕은 1237년에서 1247년 사이 수코타이의 왕 퍼쿤 씨 인트라팃과 쓰엉 ...       람캄행  퍼쿤 씨 인트라팃   \n",
       "\n",
       "   label  \n",
       "0     17  \n",
       "1      0  \n",
       "2      6  \n",
       "3      2  \n",
       "4      8  "
      ]
     },
     "execution_count": 14,
     "metadata": {},
     "output_type": "execute_result"
    }
   ],
   "source": [
    "df_train.head()"
   ]
  },
  {
   "cell_type": "code",
   "execution_count": 15,
   "id": "02499aae-c86e-49a2-a41c-49a6101b09b2",
   "metadata": {},
   "outputs": [
    {
     "name": "stdout",
     "output_type": "stream",
     "text": [
      "Min length in sentence: 15\n",
      "Max length in sentence: 510\n",
      "Average length in sentence: 99.3458888888889\n"
     ]
    }
   ],
   "source": [
    "length = df_train['sentence'].map(lambda x: len(x))\n",
    "\n",
    "print('Min length in sentence:', length.min())\n",
    "print('Max length in sentence:', length.max())\n",
    "print('Average length in sentence:', length.mean())"
   ]
  },
  {
   "cell_type": "code",
   "execution_count": null,
   "id": "d9246fa0-2a73-4aec-8081-464af9050f4b",
   "metadata": {},
   "outputs": [],
   "source": []
  }
 ],
 "metadata": {
  "kernelspec": {
   "display_name": "Python 3",
   "language": "python",
   "name": "python3"
  },
  "language_info": {
   "codemirror_mode": {
    "name": "ipython",
    "version": 3
   },
   "file_extension": ".py",
   "mimetype": "text/x-python",
   "name": "python",
   "nbconvert_exporter": "python",
   "pygments_lexer": "ipython3",
   "version": "3.7.7"
  }
 },
 "nbformat": 4,
 "nbformat_minor": 5
}
